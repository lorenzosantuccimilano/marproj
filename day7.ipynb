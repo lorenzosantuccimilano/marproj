{
 "cells": [
  {
   "cell_type": "markdown",
   "metadata": {},
   "source": [
    "# Day 7: Demand I - Enhancing the model with demand\n",
    "\n",
    "We will continue our modeling exercise by adding carbon taxes, renewable subsidies, and investment to the model.\n",
    "\n",
    "This will allow us to consider the policy impacts of alternative energy transition policies.\n",
    "\n",
    "The data and code are based on the paper \"The Efficiency and Sectoral Distributional Implications of Large-Scale Renewable Policies,\" by Mar Reguant."
   ]
  },
  {
   "cell_type": "markdown",
   "metadata": {},
   "source": [
    "We first load relevant libraries, same as last session."
   ]
  },
  {
   "cell_type": "code",
   "execution_count": 1,
   "metadata": {},
   "outputs": [
    {
     "name": "stderr",
     "output_type": "stream",
     "text": [
      "\u001b[32m\u001b[1m    Updating\u001b[22m\u001b[39m registry at `~/.julia/registries/General`\n",
      "\u001b[32m\u001b[1m   Resolving\u001b[22m\u001b[39m package versions...\n",
      "\u001b[32m\u001b[1m  No Changes\u001b[22m\u001b[39m to `~/.julia/environments/v1.6/Project.toml`\n",
      "\u001b[32m\u001b[1m  No Changes\u001b[22m\u001b[39m to `~/.julia/environments/v1.6/Manifest.toml`\n"
     ]
    }
   ],
   "source": [
    "using Pkg\n",
    "Pkg.add([\"DataFrames\", \"CSV\", \"JuMP\", \"Ipopt\", \"Cbc\", \"Plots\", \"Printf\"])"
   ]
  },
  {
   "cell_type": "code",
   "execution_count": 2,
   "metadata": {},
   "outputs": [],
   "source": [
    "begin \n",
    "    using DataFrames\n",
    "    using CSV\n",
    "    using JuMP\n",
    "    using Ipopt, Cbc\n",
    "    using Plots\n",
    "    using Printf\n",
    "end"
   ]
  },
  {
   "cell_type": "markdown",
   "metadata": {},
   "source": [
    "Remember to set your path correctly:"
   ]
  },
  {
   "cell_type": "code",
   "execution_count": 3,
   "metadata": {},
   "outputs": [
    {
     "data": {
      "text/plain": [
       "\"/Users/mreguant/Dropbox/TEACHING/BSE/EnergyTransition/day7/practicum/\""
      ]
     },
     "execution_count": 3,
     "metadata": {},
     "output_type": "execute_result"
    }
   ],
   "source": [
    "dirpath = \"/Users/mreguant/Dropbox/TEACHING/BSE/EnergyTransition/day7/practicum/\""
   ]
  },
  {
   "cell_type": "markdown",
   "metadata": {},
   "source": [
    "## Building the model\n",
    "\n",
    "We load the same data as usual, and also clean it up to simplify it further and create the demand and import curves."
   ]
  },
  {
   "cell_type": "code",
   "execution_count": 4,
   "metadata": {},
   "outputs": [
    {
     "data": {
      "text/html": [
       "<div><div style = \"float: left;\"><span>14×7 DataFrame</span></div><div style = \"clear: both;\"></div></div><div class = \"data-frame\" style = \"overflow-x: scroll;\"><table class = \"data-frame\" style = \"margin-bottom: 6px;\"><thead><tr class = \"header\"><th class = \"rowNumber\" style = \"font-weight: bold; text-align: right;\">Row</th><th style = \"text-align: left;\">variable</th><th style = \"text-align: left;\">mean</th><th style = \"text-align: left;\">min</th><th style = \"text-align: left;\">median</th><th style = \"text-align: left;\">max</th><th style = \"text-align: left;\">nmissing</th><th style = \"text-align: left;\">eltype</th></tr><tr class = \"subheader headerLastRow\"><th class = \"rowNumber\" style = \"font-weight: bold; text-align: right;\"></th><th title = \"Symbol\" style = \"text-align: left;\">Symbol</th><th title = \"Float64\" style = \"text-align: left;\">Float64</th><th title = \"Float64\" style = \"text-align: left;\">Float64</th><th title = \"Float64\" style = \"text-align: left;\">Float64</th><th title = \"Float64\" style = \"text-align: left;\">Float64</th><th title = \"Int64\" style = \"text-align: left;\">Int64</th><th title = \"DataType\" style = \"text-align: left;\">DataType</th></tr></thead><tbody><tr><td class = \"rowNumber\" style = \"font-weight: bold; text-align: right;\">1</td><td style = \"text-align: left;\">price</td><td style = \"text-align: right;\">39.0621</td><td style = \"text-align: right;\">-0.0832747</td><td style = \"text-align: right;\">37.6956</td><td style = \"text-align: right;\">140.906</td><td style = \"text-align: right;\">0</td><td style = \"text-align: left;\">Float64</td></tr><tr><td class = \"rowNumber\" style = \"font-weight: bold; text-align: right;\">2</td><td style = \"text-align: left;\">imports</td><td style = \"text-align: right;\">7.50231</td><td style = \"text-align: right;\">3.06926</td><td style = \"text-align: right;\">7.61583</td><td style = \"text-align: right;\">10.6566</td><td style = \"text-align: right;\">0</td><td style = \"text-align: left;\">Float64</td></tr><tr><td class = \"rowNumber\" style = \"font-weight: bold; text-align: right;\">3</td><td style = \"text-align: left;\">q_commercial</td><td style = \"text-align: right;\">12.8197</td><td style = \"text-align: right;\">8.02737</td><td style = \"text-align: right;\">12.2537</td><td style = \"text-align: right;\">24.71</td><td style = \"text-align: right;\">0</td><td style = \"text-align: left;\">Float64</td></tr><tr><td class = \"rowNumber\" style = \"font-weight: bold; text-align: right;\">4</td><td style = \"text-align: left;\">q_industrial</td><td style = \"text-align: right;\">4.14199</td><td style = \"text-align: right;\">2.34283</td><td style = \"text-align: right;\">3.81404</td><td style = \"text-align: right;\">8.19818</td><td style = \"text-align: right;\">0</td><td style = \"text-align: left;\">Float64</td></tr><tr><td class = \"rowNumber\" style = \"font-weight: bold; text-align: right;\">5</td><td style = \"text-align: left;\">q_residential</td><td style = \"text-align: right;\">11.1735</td><td style = \"text-align: right;\">4.24014</td><td style = \"text-align: right;\">10.2613</td><td style = \"text-align: right;\">22.5408</td><td style = \"text-align: right;\">0</td><td style = \"text-align: left;\">Float64</td></tr><tr><td class = \"rowNumber\" style = \"font-weight: bold; text-align: right;\">6</td><td style = \"text-align: left;\">wind_cap</td><td style = \"text-align: right;\">0.33531</td><td style = \"text-align: right;\">0.0482894</td><td style = \"text-align: right;\">0.311886</td><td style = \"text-align: right;\">0.758365</td><td style = \"text-align: right;\">0</td><td style = \"text-align: left;\">Float64</td></tr><tr><td class = \"rowNumber\" style = \"font-weight: bold; text-align: right;\">7</td><td style = \"text-align: left;\">solar_cap</td><td style = \"text-align: right;\">0.256698</td><td style = \"text-align: right;\">-1.38778e-16</td><td style = \"text-align: right;\">0.0650028</td><td style = \"text-align: right;\">0.865649</td><td style = \"text-align: right;\">0</td><td style = \"text-align: left;\">Float64</td></tr><tr><td class = \"rowNumber\" style = \"font-weight: bold; text-align: right;\">8</td><td style = \"text-align: left;\">hydronuc</td><td style = \"text-align: right;\">4.80626</td><td style = \"text-align: right;\">1.52605</td><td style = \"text-align: right;\">4.2595</td><td style = \"text-align: right;\">10.0751</td><td style = \"text-align: right;\">0</td><td style = \"text-align: left;\">Float64</td></tr><tr><td class = \"rowNumber\" style = \"font-weight: bold; text-align: right;\">9</td><td style = \"text-align: left;\">weights</td><td style = \"text-align: right;\">0.01752</td><td style = \"text-align: right;\">0.00221987</td><td style = \"text-align: right;\">0.0158418</td><td style = \"text-align: right;\">0.0563039</td><td style = \"text-align: right;\">0</td><td style = \"text-align: left;\">Float64</td></tr><tr><td class = \"rowNumber\" style = \"font-weight: bold; text-align: right;\">10</td><td style = \"text-align: left;\">demand</td><td style = \"text-align: right;\">28.1352</td><td style = \"text-align: right;\">20.0467</td><td style = \"text-align: right;\">27.1946</td><td style = \"text-align: right;\">44.3422</td><td style = \"text-align: right;\">0</td><td style = \"text-align: left;\">Float64</td></tr><tr><td class = \"rowNumber\" style = \"font-weight: bold; text-align: right;\">11</td><td style = \"text-align: left;\">b</td><td style = \"text-align: right;\">0.0753681</td><td style = \"text-align: right;\">-24.9316</td><td style = \"text-align: right;\">0.0750333</td><td style = \"text-align: right;\">22.5567</td><td style = \"text-align: right;\">0</td><td style = \"text-align: left;\">Float64</td></tr><tr><td class = \"rowNumber\" style = \"font-weight: bold; text-align: right;\">12</td><td style = \"text-align: left;\">a</td><td style = \"text-align: right;\">30.9487</td><td style = \"text-align: right;\">22.0514</td><td style = \"text-align: right;\">29.9141</td><td style = \"text-align: right;\">48.7764</td><td style = \"text-align: right;\">0</td><td style = \"text-align: left;\">Float64</td></tr><tr><td class = \"rowNumber\" style = \"font-weight: bold; text-align: right;\">13</td><td style = \"text-align: left;\">bm</td><td style = \"text-align: right;\">0.0628241</td><td style = \"text-align: right;\">-21.3575</td><td style = \"text-align: right;\">0.0614407</td><td style = \"text-align: right;\">19.5785</td><td style = \"text-align: right;\">0</td><td style = \"text-align: left;\">Float64</td></tr><tr><td class = \"rowNumber\" style = \"font-weight: bold; text-align: right;\">14</td><td style = \"text-align: left;\">am</td><td style = \"text-align: right;\">5.25162</td><td style = \"text-align: right;\">2.14848</td><td style = \"text-align: right;\">5.33108</td><td style = \"text-align: right;\">7.45963</td><td style = \"text-align: right;\">0</td><td style = \"text-align: left;\">Float64</td></tr></tbody></table></div>"
      ],
      "text/latex": [
       "\\begin{tabular}{r|ccccccc}\n",
       "\t& variable & mean & min & median & max & nmissing & eltype\\\\\n",
       "\t\\hline\n",
       "\t& Symbol & Float64 & Float64 & Float64 & Float64 & Int64 & DataType\\\\\n",
       "\t\\hline\n",
       "\t1 & price & 39.0621 & -0.0832747 & 37.6956 & 140.906 & 0 & Float64 \\\\\n",
       "\t2 & imports & 7.50231 & 3.06926 & 7.61583 & 10.6566 & 0 & Float64 \\\\\n",
       "\t3 & q\\_commercial & 12.8197 & 8.02737 & 12.2537 & 24.71 & 0 & Float64 \\\\\n",
       "\t4 & q\\_industrial & 4.14199 & 2.34283 & 3.81404 & 8.19818 & 0 & Float64 \\\\\n",
       "\t5 & q\\_residential & 11.1735 & 4.24014 & 10.2613 & 22.5408 & 0 & Float64 \\\\\n",
       "\t6 & wind\\_cap & 0.33531 & 0.0482894 & 0.311886 & 0.758365 & 0 & Float64 \\\\\n",
       "\t7 & solar\\_cap & 0.256698 & -1.38778e-16 & 0.0650028 & 0.865649 & 0 & Float64 \\\\\n",
       "\t8 & hydronuc & 4.80626 & 1.52605 & 4.2595 & 10.0751 & 0 & Float64 \\\\\n",
       "\t9 & weights & 0.01752 & 0.00221987 & 0.0158418 & 0.0563039 & 0 & Float64 \\\\\n",
       "\t10 & demand & 28.1352 & 20.0467 & 27.1946 & 44.3422 & 0 & Float64 \\\\\n",
       "\t11 & b & 0.0753681 & -24.9316 & 0.0750333 & 22.5567 & 0 & Float64 \\\\\n",
       "\t12 & a & 30.9487 & 22.0514 & 29.9141 & 48.7764 & 0 & Float64 \\\\\n",
       "\t13 & bm & 0.0628241 & -21.3575 & 0.0614407 & 19.5785 & 0 & Float64 \\\\\n",
       "\t14 & am & 5.25162 & 2.14848 & 5.33108 & 7.45963 & 0 & Float64 \\\\\n",
       "\\end{tabular}\n"
      ],
      "text/plain": [
       "\u001b[1m14×7 DataFrame\u001b[0m\n",
       "\u001b[1m Row \u001b[0m│\u001b[1m variable      \u001b[0m\u001b[1m mean       \u001b[0m\u001b[1m min           \u001b[0m\u001b[1m median     \u001b[0m\u001b[1m max         \u001b[0m\u001b[1m nmis\u001b[0m ⋯\n",
       "     │\u001b[90m Symbol        \u001b[0m\u001b[90m Float64    \u001b[0m\u001b[90m Float64       \u001b[0m\u001b[90m Float64    \u001b[0m\u001b[90m Float64     \u001b[0m\u001b[90m Int6\u001b[0m ⋯\n",
       "─────┼──────────────────────────────────────────────────────────────────────────\n",
       "   1 │ price          39.0621      -0.0832747    37.6956     140.906           ⋯\n",
       "   2 │ imports         7.50231      3.06926       7.61583     10.6566\n",
       "   3 │ q_commercial   12.8197       8.02737      12.2537      24.71\n",
       "   4 │ q_industrial    4.14199      2.34283       3.81404      8.19818\n",
       "   5 │ q_residential  11.1735       4.24014      10.2613      22.5408          ⋯\n",
       "   6 │ wind_cap        0.33531      0.0482894     0.311886     0.758365\n",
       "   7 │ solar_cap       0.256698    -1.38778e-16   0.0650028    0.865649\n",
       "   8 │ hydronuc        4.80626      1.52605       4.2595      10.0751\n",
       "   9 │ weights         0.01752      0.00221987    0.0158418    0.0563039       ⋯\n",
       "  10 │ demand         28.1352      20.0467       27.1946      44.3422\n",
       "  11 │ b               0.0753681  -24.9316        0.0750333   22.5567\n",
       "  12 │ a              30.9487      22.0514       29.9141      48.7764\n",
       "  13 │ bm              0.0628241  -21.3575        0.0614407   19.5785          ⋯\n",
       "  14 │ am              5.25162      2.14848       5.33108      7.45963\n",
       "\u001b[36m                                                               2 columns omitted\u001b[0m"
      ]
     },
     "execution_count": 4,
     "metadata": {},
     "output_type": "execute_result"
    }
   ],
   "source": [
    "begin\n",
    "    dfclust = CSV.read(string(dirpath,\"data_jaere_clustered_500.csv\"), DataFrame);\n",
    "\n",
    "    # Re-scaling (we multiply by 8.76 to make it into a full year of hours (divided by 1000))\n",
    "    dfclust.weights = 8.76 * dfclust.weights / sum(dfclust.weights);\n",
    "\n",
    "    # Here only one demand type to make it easier\n",
    "    dfclust.demand = dfclust.q_residential + dfclust.q_commercial + dfclust.q_industrial;\n",
    "\n",
    "    # Calibrate demand based on elasticities (using 0.5 here to have more action)\n",
    "    elas = [.1, .2, .5, .3];\n",
    "    dfclust.b = elas[1] * dfclust.demand ./ dfclust.price;  # slope\n",
    "    dfclust.a = dfclust.demand + dfclust.b .* dfclust.price;  # intercept\n",
    "\n",
    "    # Calibrate imports (using elas 0.3)\n",
    "    dfclust.bm = elas[4] * dfclust.imports ./ dfclust.price;  # slope\n",
    "    dfclust.am = dfclust.imports - dfclust.bm .* dfclust.price;  # intercept\n",
    "    \n",
    "    describe(dfclust)\n",
    "end"
   ]
  },
  {
   "cell_type": "markdown",
   "metadata": {},
   "source": [
    "The technology file now includes the fixed cost of building new power plants (technologies 3-5). Note that we added an additional row for new natural gas plants."
   ]
  },
  {
   "cell_type": "markdown",
   "metadata": {},
   "source": [
    "We will use an annualization factor to pro-rate the importance of fixed costs for one year."
   ]
  },
  {
   "cell_type": "code",
   "execution_count": 5,
   "metadata": {
    "scrolled": true
   },
   "outputs": [
    {
     "data": {
      "text/html": [
       "<div><div style = \"float: left;\"><span>7×15 DataFrame</span></div><div style = \"clear: both;\"></div></div><div class = \"data-frame\" style = \"overflow-x: scroll;\"><table class = \"data-frame\" style = \"margin-bottom: 6px;\"><thead><tr class = \"header\"><th class = \"rowNumber\" style = \"font-weight: bold; text-align: right;\">Row</th><th style = \"text-align: left;\">techname</th><th style = \"text-align: left;\">heatrate</th><th style = \"text-align: left;\">heatrate2</th><th style = \"text-align: left;\">F</th><th style = \"text-align: left;\">capLB</th><th style = \"text-align: left;\">capUB</th><th style = \"text-align: left;\">new</th><th style = \"text-align: left;\">renewable</th><th style = \"text-align: left;\">solar</th><th style = \"text-align: left;\">thermal</th><th style = \"text-align: left;\">e</th><th style = \"text-align: left;\">e2</th><th style = \"text-align: left;\">c</th><th style = \"text-align: left;\">c2</th><th style = \"text-align: left;\">F2</th></tr><tr class = \"subheader headerLastRow\"><th class = \"rowNumber\" style = \"font-weight: bold; text-align: right;\"></th><th title = \"String15\" style = \"text-align: left;\">String15</th><th title = \"Float64\" style = \"text-align: left;\">Float64</th><th title = \"Float64\" style = \"text-align: left;\">Float64</th><th title = \"Float64\" style = \"text-align: left;\">Float64</th><th title = \"Float64\" style = \"text-align: left;\">Float64</th><th title = \"Float64\" style = \"text-align: left;\">Float64</th><th title = \"Int64\" style = \"text-align: left;\">Int64</th><th title = \"Int64\" style = \"text-align: left;\">Int64</th><th title = \"Int64\" style = \"text-align: left;\">Int64</th><th title = \"Int64\" style = \"text-align: left;\">Int64</th><th title = \"Float64\" style = \"text-align: left;\">Float64</th><th title = \"Float64\" style = \"text-align: left;\">Float64</th><th title = \"Float64\" style = \"text-align: left;\">Float64</th><th title = \"Float64\" style = \"text-align: left;\">Float64</th><th title = \"Float64\" style = \"text-align: left;\">Float64</th></tr></thead><tbody><tr><td class = \"rowNumber\" style = \"font-weight: bold; text-align: right;\">1</td><td style = \"text-align: left;\">Hydro/Nuclear</td><td style = \"text-align: right;\">10.0</td><td style = \"text-align: right;\">0.0</td><td style = \"text-align: right;\">0.0</td><td style = \"text-align: right;\">1.0</td><td style = \"text-align: right;\">1.0</td><td style = \"text-align: right;\">0</td><td style = \"text-align: right;\">0</td><td style = \"text-align: right;\">0</td><td style = \"text-align: right;\">0</td><td style = \"text-align: right;\">0.0</td><td style = \"text-align: right;\">0.0</td><td style = \"text-align: right;\">10.0</td><td style = \"text-align: right;\">0.0</td><td style = \"text-align: right;\">0.0</td></tr><tr><td class = \"rowNumber\" style = \"font-weight: bold; text-align: right;\">2</td><td style = \"text-align: left;\">Existing 1</td><td style = \"text-align: right;\">6.67199</td><td style = \"text-align: right;\">0.0929123</td><td style = \"text-align: right;\">0.0</td><td style = \"text-align: right;\">11.5</td><td style = \"text-align: right;\">11.5</td><td style = \"text-align: right;\">0</td><td style = \"text-align: right;\">0</td><td style = \"text-align: right;\">0</td><td style = \"text-align: right;\">1</td><td style = \"text-align: right;\">0.360184</td><td style = \"text-align: right;\">0.0048861</td><td style = \"text-align: right;\">23.352</td><td style = \"text-align: right;\">0.325193</td><td style = \"text-align: right;\">0.0</td></tr><tr><td class = \"rowNumber\" style = \"font-weight: bold; text-align: right;\">3</td><td style = \"text-align: left;\">Existing 2</td><td style = \"text-align: right;\">9.79412</td><td style = \"text-align: right;\">0.286247</td><td style = \"text-align: right;\">0.0</td><td style = \"text-align: right;\">14.5</td><td style = \"text-align: right;\">14.5</td><td style = \"text-align: right;\">0</td><td style = \"text-align: right;\">0</td><td style = \"text-align: right;\">0</td><td style = \"text-align: right;\">1</td><td style = \"text-align: right;\">0.546134</td><td style = \"text-align: right;\">0.0110777</td><td style = \"text-align: right;\">34.2794</td><td style = \"text-align: right;\">1.00187</td><td style = \"text-align: right;\">0.0</td></tr><tr><td class = \"rowNumber\" style = \"font-weight: bold; text-align: right;\">4</td><td style = \"text-align: left;\">Existing 3</td><td style = \"text-align: right;\">13.8181</td><td style = \"text-align: right;\">20.5352</td><td style = \"text-align: right;\">0.0</td><td style = \"text-align: right;\">0.578</td><td style = \"text-align: right;\">0.578</td><td style = \"text-align: right;\">0</td><td style = \"text-align: right;\">0</td><td style = \"text-align: right;\">0</td><td style = \"text-align: right;\">1</td><td style = \"text-align: right;\">0.816768</td><td style = \"text-align: right;\">0.234476</td><td style = \"text-align: right;\">48.3634</td><td style = \"text-align: right;\">71.8731</td><td style = \"text-align: right;\">0.0</td></tr><tr><td class = \"rowNumber\" style = \"font-weight: bold; text-align: right;\">5</td><td style = \"text-align: left;\">New Gas</td><td style = \"text-align: right;\">6.6</td><td style = \"text-align: right;\">0.0</td><td style = \"text-align: right;\">78.4773</td><td style = \"text-align: right;\">0.0</td><td style = \"text-align: right;\">100.0</td><td style = \"text-align: right;\">1</td><td style = \"text-align: right;\">0</td><td style = \"text-align: right;\">0</td><td style = \"text-align: right;\">1</td><td style = \"text-align: right;\">0.35</td><td style = \"text-align: right;\">0.0</td><td style = \"text-align: right;\">23.352</td><td style = \"text-align: right;\">0.325193</td><td style = \"text-align: right;\">1.56955</td></tr><tr><td class = \"rowNumber\" style = \"font-weight: bold; text-align: right;\">6</td><td style = \"text-align: left;\">Wind</td><td style = \"text-align: right;\">0.0</td><td style = \"text-align: right;\">0.0</td><td style = \"text-align: right;\">100.303</td><td style = \"text-align: right;\">0.0</td><td style = \"text-align: right;\">100.0</td><td style = \"text-align: right;\">1</td><td style = \"text-align: right;\">1</td><td style = \"text-align: right;\">0</td><td style = \"text-align: right;\">0</td><td style = \"text-align: right;\">0.0</td><td style = \"text-align: right;\">0.0</td><td style = \"text-align: right;\">0.0</td><td style = \"text-align: right;\">0.0</td><td style = \"text-align: right;\">2.00606</td></tr><tr><td class = \"rowNumber\" style = \"font-weight: bold; text-align: right;\">7</td><td style = \"text-align: left;\">Solar</td><td style = \"text-align: right;\">0.0</td><td style = \"text-align: right;\">0.0</td><td style = \"text-align: right;\">100.303</td><td style = \"text-align: right;\">0.0</td><td style = \"text-align: right;\">100.0</td><td style = \"text-align: right;\">1</td><td style = \"text-align: right;\">1</td><td style = \"text-align: right;\">1</td><td style = \"text-align: right;\">0</td><td style = \"text-align: right;\">0.0</td><td style = \"text-align: right;\">0.0</td><td style = \"text-align: right;\">0.0</td><td style = \"text-align: right;\">0.0</td><td style = \"text-align: right;\">2.00606</td></tr></tbody></table></div>"
      ],
      "text/latex": [
       "\\begin{tabular}{r|ccccccccc}\n",
       "\t& techname & heatrate & heatrate2 & F & capLB & capUB & new & renewable & \\\\\n",
       "\t\\hline\n",
       "\t& String15 & Float64 & Float64 & Float64 & Float64 & Float64 & Int64 & Int64 & \\\\\n",
       "\t\\hline\n",
       "\t1 & Hydro/Nuclear & 10.0 & 0.0 & 0.0 & 1.0 & 1.0 & 0 & 0 & $\\dots$ \\\\\n",
       "\t2 & Existing 1 & 6.67199 & 0.0929123 & 0.0 & 11.5 & 11.5 & 0 & 0 & $\\dots$ \\\\\n",
       "\t3 & Existing 2 & 9.79412 & 0.286247 & 0.0 & 14.5 & 14.5 & 0 & 0 & $\\dots$ \\\\\n",
       "\t4 & Existing 3 & 13.8181 & 20.5352 & 0.0 & 0.578 & 0.578 & 0 & 0 & $\\dots$ \\\\\n",
       "\t5 & New Gas & 6.6 & 0.0 & 78.4773 & 0.0 & 100.0 & 1 & 0 & $\\dots$ \\\\\n",
       "\t6 & Wind & 0.0 & 0.0 & 100.303 & 0.0 & 100.0 & 1 & 1 & $\\dots$ \\\\\n",
       "\t7 & Solar & 0.0 & 0.0 & 100.303 & 0.0 & 100.0 & 1 & 1 & $\\dots$ \\\\\n",
       "\\end{tabular}\n"
      ],
      "text/plain": [
       "\u001b[1m7×15 DataFrame\u001b[0m\n",
       "\u001b[1m Row \u001b[0m│\u001b[1m techname      \u001b[0m\u001b[1m heatrate \u001b[0m\u001b[1m heatrate2  \u001b[0m\u001b[1m F        \u001b[0m\u001b[1m capLB   \u001b[0m\u001b[1m capUB   \u001b[0m\u001b[1m new   \u001b[0m\u001b[1m\u001b[0m ⋯\n",
       "     │\u001b[90m String15      \u001b[0m\u001b[90m Float64  \u001b[0m\u001b[90m Float64    \u001b[0m\u001b[90m Float64  \u001b[0m\u001b[90m Float64 \u001b[0m\u001b[90m Float64 \u001b[0m\u001b[90m Int64 \u001b[0m\u001b[90m\u001b[0m ⋯\n",
       "─────┼──────────────────────────────────────────────────────────────────────────\n",
       "   1 │ Hydro/Nuclear  10.0       0.0          0.0       1.0      1.0        0  ⋯\n",
       "   2 │ Existing 1      6.67199   0.0929123    0.0      11.5     11.5        0\n",
       "   3 │ Existing 2      9.79412   0.286247     0.0      14.5     14.5        0\n",
       "   4 │ Existing 3     13.8181   20.5352       0.0       0.578    0.578      0\n",
       "   5 │ New Gas         6.6       0.0         78.4773    0.0    100.0        1  ⋯\n",
       "   6 │ Wind            0.0       0.0        100.303     0.0    100.0        1\n",
       "   7 │ Solar           0.0       0.0        100.303     0.0    100.0        1\n",
       "\u001b[36m                                                               8 columns omitted\u001b[0m"
      ]
     },
     "execution_count": 5,
     "metadata": {},
     "output_type": "execute_result"
    }
   ],
   "source": [
    "begin\n",
    "    tech = CSV.read(string(dirpath,\"data_technology.csv\"), DataFrame);\n",
    "    afactor = (1 - (1 / (1.05^20.0))) / 0.05;\n",
    "    tech.F = tech.F ./afactor;\n",
    "    tech.F2 = tech.F2 ./afactor;\n",
    "    tech\n",
    "end"
   ]
  },
  {
   "cell_type": "markdown",
   "metadata": {},
   "source": [
    "### Adding demand considerations\n",
    "\n",
    "We are now ready to clear the market. We will **maximize welfare** using a non-linear solver.\n",
    "\n",
    "$$ \\max \\ CS - Costs - Fixed Costs \\\\\n",
    "\n",
    "\\text{s.t.} \\ \\text{operational constraints, market clearing}. $$\n",
    "\n",
    "To include demand, we will separate the price that consumers pay from the price that the wholesale market sets. We define a variable \"tariff\" that is what consumers pay any hour of the day.\n",
    "\n",
    "We also allow alpha to determine the share of \"insensitive\" consumers. We can see how the investment changes as we modify \"alpha\"."
   ]
  },
  {
   "cell_type": "code",
   "execution_count": 6,
   "metadata": {},
   "outputs": [
    {
     "data": {
      "text/plain": [
       "clear_market_invest_tariff (generic function with 1 method)"
      ]
     },
     "execution_count": 6,
     "metadata": {},
     "output_type": "execute_result"
    }
   ],
   "source": [
    "## Clear market based on cost minimization\n",
    "function clear_market_invest_tariff(data::DataFrame, tech::DataFrame; \n",
    "        tariff=35.0, alpha=1.0, tax=0.0, subsidy=0.0, ng_price = 4.0)\n",
    "\n",
    "    # We declare a model\n",
    "    model = Model(\n",
    "        optimizer_with_attributes(\n",
    "            Ipopt.Optimizer, \n",
    "                \"print_level\"=>0)\n",
    "        );\n",
    "\n",
    "    # Set useful indexes\n",
    "    I = nrow(tech);  # number of techs\n",
    "    T = nrow(data);  # number of periods\n",
    "\n",
    "    for i = 2:5\n",
    "        tech.c[i] = tech.heatrate[i] * ng_price;\n",
    "        tech.c2[i] = tech.heatrate2[i] * ng_price;\n",
    "    end\n",
    "    \n",
    "    # Variables to solve for\n",
    "    @variable(model, price[1:T]);\n",
    "    @variable(model, demand[1:T]);\n",
    "    @variable(model, imports[1:T]);\n",
    "    @variable(model, quantity[1:T, 1:I] >= 0);\n",
    "    @variable(model, costs[1:T]);\n",
    "    @variable(model, gross_surplus[1:T]);\n",
    "    @variable(model, gas_gw >= 0.0);\n",
    "    @variable(model, wind_gw >= 0.0);\n",
    "    @variable(model, solar_gw >= 0.0);\n",
    "\n",
    "    # Maximize welfare including imports costs\n",
    "    @NLobjective(model, Max, sum(data.weights[t] * \n",
    "                (gross_surplus[t] - costs[t]) for t=1:T)\n",
    "             - tech.F[5]*gas_gw  - tech.F[6]*wind_gw - tech.F[7]*solar_gw \n",
    "             - tech.F2[5]*gas_gw^2  - tech.F2[6]*wind_gw^2 - tech.F2[7]*solar_gw^2);\n",
    "\n",
    "    # Market clearing\n",
    "    @constraint(model, [t=1:T], \n",
    "        demand[t] == data.a[t] - data.b[t] * (alpha*tariff + (1.0-alpha)*price[t]));\n",
    "    @constraint(model, [t=1:T], \n",
    "        imports[t] == data.am[t] + data.bm[t] * price[t]);\n",
    "    @constraint(model, [t=1:T], \n",
    "        demand[t] == sum(quantity[t,i] for i=1:I) + imports[t]);\n",
    "\n",
    "    # Define surplus\n",
    "    @constraint(model, [t=1:T], gross_surplus[t]==\n",
    "        # insenstive consumers\n",
    "                alpha * (tariff * (data.a[t] - data.b[t]*tariff) \n",
    "            + (data.a[t] - data.b[t]*tariff)^2/(2*data.b[t])) \n",
    "        # sensitive consumers\n",
    "            + (1.0-alpha)*(price[t] * (data.a[t] - data.b[t]*price[t]) \n",
    "            + (data.a[t] - data.b[t]*price[t])^2/(2*data.b[t])));\n",
    "\n",
    "    # Define cost\n",
    "    @constraint(model, [t=1:T], costs[t] ==\n",
    "                    sum(tech.c[i] * quantity[t,i]\n",
    "                    + tech.c2[i] * quantity[t,i]^2/2 \n",
    "                    + tax * tech.e[i] * quantity[t,i] \n",
    "                    - subsidy * tech.renewable[i] * quantity[t,i] for i=1:I)\n",
    "        + (imports[t] - data.am[t])^2/(2 * data.bm[t]))\n",
    "\n",
    "    # Constraints on output\n",
    "    @constraint(model, [t=1:T], \n",
    "        quantity[t,1] <= data.hydronuc[t]);\n",
    "    @constraint(model, [t=1:T,i=2:4], \n",
    "        quantity[t,i] <= tech[i,\"capUB\"]);\n",
    "    @constraint(model, [t=1:T], \n",
    "        quantity[t,5] <= gas_gw);\n",
    "    @constraint(model, [t=1:T], \n",
    "        quantity[t,6] <= wind_gw * data.wind_cap[t]);\n",
    "    @constraint(model, [t=1:T], \n",
    "        quantity[t,7] <= solar_gw * data.solar_cap[t]);\n",
    "\n",
    "\n",
    "    # Solve model\n",
    "    optimize!(model);\n",
    "\n",
    "    status = @sprintf(\"%s\", JuMP.termination_status(model));\n",
    "\n",
    "    if (status==\"LOCALLY_SOLVED\")        \n",
    "\t\tp = JuMP.value.(price);\n",
    "        d = JuMP.value.(demand);\n",
    "        d_insen = (data.a .- data.b.*tariff);\n",
    "        d_sen = (data.a .- data.b.*p);\n",
    "        avg_price = sum(p.*d.*data.weights)/sum(d.*data.weights);\n",
    "        avg_price_insen = sum(p.*d_insen.*data.weights)/sum(d_insen.*data.weights);\n",
    "        avg_price_sen = sum(p.*d_sen.*data.weights)/sum(d_sen.*data.weights);\n",
    "        imp = JuMP.value.(imports);\n",
    "        q = JuMP.value.(quantity);\n",
    "        cost = JuMP.value.(costs);\n",
    "        results = Dict(\"status\" => @sprintf(\"%s\",JuMP.termination_status(model)),\n",
    "            \"avg_price\" => avg_price,\n",
    "            \"avg_price_insen\" => avg_price_insen,\n",
    "            \"avg_price_sen\" => avg_price_sen,\n",
    "            \"price\" => p,\n",
    "            \"quantity\" => q,\n",
    "            \"imports\" => imp,\n",
    "            \"demand\" => d,\n",
    "            \"cost\" => cost,\n",
    "            \"gas_gw\" => JuMP.value.(gas_gw),\n",
    "            \"wind_gw\" => JuMP.value.(wind_gw),\n",
    "            \"solar_gw\" => JuMP.value.(solar_gw));\n",
    "        return results\n",
    "    else\n",
    "        results = Dict(\"status\" => @sprintf(\"%s\",JuMP.termination_status(model)));\n",
    "        return results\n",
    "    end\n",
    "\n",
    "end"
   ]
  },
  {
   "cell_type": "markdown",
   "metadata": {},
   "source": [
    "We will set the initial tariff to $35/MWh."
   ]
  },
  {
   "cell_type": "code",
   "execution_count": 7,
   "metadata": {},
   "outputs": [
    {
     "name": "stdout",
     "output_type": "stream",
     "text": [
      "\n",
      "******************************************************************************\n",
      "This program contains Ipopt, a library for large-scale nonlinear optimization.\n",
      " Ipopt is released as open source code under the Eclipse Public License (EPL).\n",
      "         For more information visit https://github.com/coin-or/Ipopt\n",
      "******************************************************************************\n",
      "\n"
     ]
    },
    {
     "data": {
      "text/plain": [
       "Dict{String, Any} with 12 entries:\n",
       "  \"avg_price\"       => 37.6123\n",
       "  \"price\"           => [44.4818, 30.6283, 30.223, 44.9862, 30.9472, 30.7793, 34…\n",
       "  \"gas_gw\"          => 2.9301\n",
       "  \"status\"          => \"LOCALLY_SOLVED\"\n",
       "  \"quantity\"        => [9.18815 11.5 … 0.0777324 2.26335e-9; 3.42648 10.6023 … …\n",
       "  \"solar_gw\"        => -8.69231e-9\n",
       "  \"imports\"         => [9.21914, 8.44267, 7.5384, 7.18079, 4.97934, 7.95896, 8.…\n",
       "  \"avg_price_sen\"   => 37.6972\n",
       "  \"demand\"          => [37.5487, 25.5278, 26.6795, 30.4872, 22.5604, 25.0565, 2…\n",
       "  \"avg_price_insen\" => 37.6123\n",
       "  \"cost\"            => [753.31, 452.538, 448.886, 710.197, 458.504, 466.551, 48…\n",
       "  \"wind_gw\"         => 0.341448"
      ]
     },
     "execution_count": 7,
     "metadata": {},
     "output_type": "execute_result"
    }
   ],
   "source": [
    "results1 = clear_market_invest_tariff(dfclust, tech, tariff=35.0)"
   ]
  },
  {
   "cell_type": "markdown",
   "metadata": {},
   "source": [
    "Notice that average weighted prices are higher than the tariff we charged consumers, we need to charge them more or otherwise, we would not be able to pay the producers of energy."
   ]
  },
  {
   "cell_type": "code",
   "execution_count": 8,
   "metadata": {
    "scrolled": true
   },
   "outputs": [
    {
     "data": {
      "text/plain": [
       "Dict{String, Any} with 12 entries:\n",
       "  \"avg_price\"       => 37.3759\n",
       "  \"price\"           => [44.1936, 30.5353, 30.0448, 44.7934, 30.9559, 30.5391, 3…\n",
       "  \"gas_gw\"          => 2.1001\n",
       "  \"status\"          => \"LOCALLY_SOLVED\"\n",
       "  \"quantity\"        => [9.18815 11.5 … 0.0199101 2.21181e-9; 3.42648 10.3521 … …\n",
       "  \"solar_gw\"        => -8.75577e-9\n",
       "  \"imports\"         => [9.20202, 8.43533, 7.52506, 7.17116, 4.97972, 7.93784, 8…\n",
       "  \"avg_price_sen\"   => 37.2611\n",
       "  \"demand\"          => [36.392, 24.3464, 25.3331, 29.4258, 21.6225, 23.5336, 25…\n",
       "  \"avg_price_insen\" => 37.3759\n",
       "  \"cost\"            => [719.477, 422.751, 412.121, 680.293, 437.323, 424.173, 4…\n",
       "  \"wind_gw\"         => 0.0874575"
      ]
     },
     "execution_count": 8,
     "metadata": {},
     "output_type": "execute_result"
    }
   ],
   "source": [
    "results2 = clear_market_invest_tariff(dfclust, tech, tariff=50.0)"
   ]
  },
  {
   "cell_type": "markdown",
   "metadata": {},
   "source": [
    "We can see the right tariff is between \\\\$40 and \\\\$50/MWh."
   ]
  },
  {
   "cell_type": "markdown",
   "metadata": {},
   "source": [
    "### Solving for the fixed point\n",
    "We can solve for the fixed point in a loop."
   ]
  },
  {
   "cell_type": "code",
   "execution_count": 9,
   "metadata": {
    "scrolled": true
   },
   "outputs": [
    {
     "data": {
      "text/plain": [
       "37.5660427504462"
      ]
     },
     "execution_count": 9,
     "metadata": {},
     "output_type": "execute_result"
    }
   ],
   "source": [
    "let\n",
    "    current_diff = 1.0;\n",
    "    guess = 35.0;\n",
    "    while (current_diff > 1e-2)\n",
    "        res = clear_market_invest_tariff(dfclust, tech, tariff=guess);\n",
    "        newguess = res[\"avg_price_insen\"];\n",
    "        current_diff = (guess-newguess).^2;\n",
    "        guess = newguess;\n",
    "    end\n",
    "    guess\n",
    "end"
   ]
  },
  {
   "cell_type": "markdown",
   "metadata": {},
   "source": [
    "Note: It is best to convert this into a function so that now we can compare alternative solutions."
   ]
  },
  {
   "cell_type": "code",
   "execution_count": 10,
   "metadata": {},
   "outputs": [
    {
     "data": {
      "text/plain": [
       "clear_market_equilibrium (generic function with 1 method)"
      ]
     },
     "execution_count": 10,
     "metadata": {},
     "output_type": "execute_result"
    }
   ],
   "source": [
    "function clear_market_equilibrium(data::DataFrame, tech::DataFrame; \n",
    "        tariff=35.0, alpha=1.0, tax=0.0, subsidy=0.0, ng_price = 4.0)\n",
    "    \n",
    "    current_diff = 1.0;\n",
    "    guess = tariff;\n",
    "    while (current_diff > 1e-2)\n",
    "        res = clear_market_invest_tariff(dfclust, tech, tariff=guess, alpha=alpha,\n",
    "            tax=tax, subsidy=subsidy, ng_price=ng_price);\n",
    "        newguess = res[\"avg_price_insen\"];\n",
    "        current_diff = (guess-newguess).^2;\n",
    "        guess = 0.5*newguess + 0.5*guess;\n",
    "    end\n",
    "    \n",
    "    # we solve at the equilibrium guess and save tariff\n",
    "    res = clear_market_invest_tariff(dfclust, tech, tariff=guess, alpha=alpha,\n",
    "            tax=tax, subsidy=subsidy, ng_price=ng_price);\n",
    "    res[\"tariff\"] = guess;\n",
    "    \n",
    "    return res\n",
    "    \n",
    "end"
   ]
  },
  {
   "cell_type": "code",
   "execution_count": 11,
   "metadata": {},
   "outputs": [
    {
     "data": {
      "text/plain": [
       "Dict{String, Any} with 13 entries:\n",
       "  \"avg_price\"       => 37.2815\n",
       "  \"price\"           => [44.0736, 30.8636, 30.4825, 44.5953, 36.1152, 32.0973, 3…\n",
       "  \"gas_gw\"          => 2.62246\n",
       "  \"status\"          => \"LOCALLY_SOLVED\"\n",
       "  \"quantity\"        => [9.18815 11.5 … 0.0664581 2.08245e-9; 3.42648 11.2354 … …\n",
       "  \"solar_gw\"        => -8.94871e-9\n",
       "  \"tariff\"          => 37.4991\n",
       "  \"imports\"         => [9.19489, 8.46127, 7.55783, 7.16127, 5.20328, 8.0748, 8.…\n",
       "  \"avg_price_sen\"   => 37.2815\n",
       "  \"demand\"          => [36.849, 25.8535, 27.085, 29.8082, 22.4906, 25.3512, 26.…\n",
       "  \"avg_price_insen\" => 37.4534\n",
       "  \"cost\"            => [728.328, 464.454, 462.548, 685.909, 459.117, 477.242, 4…\n",
       "  \"wind_gw\"         => 0.291924"
      ]
     },
     "execution_count": 11,
     "metadata": {},
     "output_type": "execute_result"
    }
   ],
   "source": [
    "clear_market_equilibrium(dfclust, tech, alpha=0.0, tariff=43.0)"
   ]
  },
  {
   "cell_type": "code",
   "execution_count": 12,
   "metadata": {},
   "outputs": [
    {
     "data": {
      "text/plain": [
       "Dict{String, Any} with 13 entries:\n",
       "  \"avg_price\"       => 37.5662\n",
       "  \"price\"           => [44.4326, 30.6123, 30.1925, 44.9536, 30.9487, 30.738, 33…\n",
       "  \"gas_gw\"          => 2.78448\n",
       "  \"status\"          => \"LOCALLY_SOLVED\"\n",
       "  \"quantity\"        => [9.18815 11.5 … 0.0684215 2.25401e-9; 3.42648 10.5592 … …\n",
       "  \"solar_gw\"        => -8.70395e-9\n",
       "  \"tariff\"          => 37.6045\n",
       "  \"imports\"         => [9.21622, 8.44141, 7.53612, 7.17916, 4.9794, 7.95533, 8.…\n",
       "  \"avg_price_sen\"   => 37.6276\n",
       "  \"demand\"          => [37.3478, 25.3226, 26.4457, 30.3029, 22.3975, 24.7921, 2…\n",
       "  \"avg_price_insen\" => 37.5662\n",
       "  \"cost\"            => [747.424, 447.335, 442.493, 705.0, 454.781, 459.178, 481…\n",
       "  \"wind_gw\"         => 0.300549"
      ]
     },
     "execution_count": 12,
     "metadata": {},
     "output_type": "execute_result"
    }
   ],
   "source": [
    "clear_market_equilibrium(dfclust, tech, alpha=1.0, tariff=43.0)"
   ]
  },
  {
   "cell_type": "markdown",
   "metadata": {},
   "source": [
    "## Does it help to have attentive consumers?\n",
    "\n",
    "We visualize the impact of the policy.\n",
    "\n",
    "We can plot the costs (or prices) of electricity for several values of alpha. This can take a while to compute."
   ]
  },
  {
   "cell_type": "code",
   "execution_count": 16,
   "metadata": {},
   "outputs": [],
   "source": [
    "begin\n",
    "    \n",
    "    share_alpha = collect(0.0:0.2:1.0);\n",
    "    \n",
    "    dataPolicy = DataFrame(alpha=Float64[], tariff=Float64[]);\n",
    "    \n",
    "    for a in share_alpha\n",
    "        res = clear_market_equilibrium(dfclust, tech, tariff=40.0, alpha=a);\n",
    "        push!(dataPolicy, [a, res[\"tariff\"]]);\n",
    "    end\n",
    "    \n",
    "end"
   ]
  },
  {
   "cell_type": "code",
   "execution_count": 17,
   "metadata": {},
   "outputs": [
    {
     "data": {
      "text/html": [
       "<div><div style = \"float: left;\"><span>6×2 DataFrame</span></div><div style = \"clear: both;\"></div></div><div class = \"data-frame\" style = \"overflow-x: scroll;\"><table class = \"data-frame\" style = \"margin-bottom: 6px;\"><thead><tr class = \"header\"><th class = \"rowNumber\" style = \"font-weight: bold; text-align: right;\">Row</th><th style = \"text-align: left;\">alpha</th><th style = \"text-align: left;\">tariff</th></tr><tr class = \"subheader headerLastRow\"><th class = \"rowNumber\" style = \"font-weight: bold; text-align: right;\"></th><th title = \"Float64\" style = \"text-align: left;\">Float64</th><th title = \"Float64\" style = \"text-align: left;\">Float64</th></tr></thead><tbody><tr><td class = \"rowNumber\" style = \"font-weight: bold; text-align: right;\">1</td><td style = \"text-align: right;\">0.0</td><td style = \"text-align: right;\">37.4949</td></tr><tr><td class = \"rowNumber\" style = \"font-weight: bold; text-align: right;\">2</td><td style = \"text-align: right;\">0.2</td><td style = \"text-align: right;\">37.5021</td></tr><tr><td class = \"rowNumber\" style = \"font-weight: bold; text-align: right;\">3</td><td style = \"text-align: right;\">0.4</td><td style = \"text-align: right;\">37.5119</td></tr><tr><td class = \"rowNumber\" style = \"font-weight: bold; text-align: right;\">4</td><td style = \"text-align: right;\">0.6</td><td style = \"text-align: right;\">37.5287</td></tr><tr><td class = \"rowNumber\" style = \"font-weight: bold; text-align: right;\">5</td><td style = \"text-align: right;\">0.8</td><td style = \"text-align: right;\">37.5534</td></tr><tr><td class = \"rowNumber\" style = \"font-weight: bold; text-align: right;\">6</td><td style = \"text-align: right;\">1.0</td><td style = \"text-align: right;\">37.6011</td></tr></tbody></table></div>"
      ],
      "text/latex": [
       "\\begin{tabular}{r|cc}\n",
       "\t& alpha & tariff\\\\\n",
       "\t\\hline\n",
       "\t& Float64 & Float64\\\\\n",
       "\t\\hline\n",
       "\t1 & 0.0 & 37.4949 \\\\\n",
       "\t2 & 0.2 & 37.5021 \\\\\n",
       "\t3 & 0.4 & 37.5119 \\\\\n",
       "\t4 & 0.6 & 37.5287 \\\\\n",
       "\t5 & 0.8 & 37.5534 \\\\\n",
       "\t6 & 1.0 & 37.6011 \\\\\n",
       "\\end{tabular}\n"
      ],
      "text/plain": [
       "\u001b[1m6×2 DataFrame\u001b[0m\n",
       "\u001b[1m Row \u001b[0m│\u001b[1m alpha   \u001b[0m\u001b[1m tariff  \u001b[0m\n",
       "     │\u001b[90m Float64 \u001b[0m\u001b[90m Float64 \u001b[0m\n",
       "─────┼──────────────────\n",
       "   1 │     0.0  37.4949\n",
       "   2 │     0.2  37.5021\n",
       "   3 │     0.4  37.5119\n",
       "   4 │     0.6  37.5287\n",
       "   5 │     0.8  37.5534\n",
       "   6 │     1.0  37.6011"
      ]
     },
     "execution_count": 17,
     "metadata": {},
     "output_type": "execute_result"
    }
   ],
   "source": [
    "dataPolicy"
   ]
  },
  {
   "cell_type": "code",
   "execution_count": 18,
   "metadata": {},
   "outputs": [
    {
     "data": {
      "image/svg+xml": [
       "<?xml version=\"1.0\" encoding=\"utf-8\"?>\n",
       "<svg xmlns=\"http://www.w3.org/2000/svg\" xmlns:xlink=\"http://www.w3.org/1999/xlink\" width=\"600\" height=\"400\" viewBox=\"0 0 2400 1600\">\n",
       "<defs>\n",
       "  <clipPath id=\"clip740\">\n",
       "    <rect x=\"0\" y=\"0\" width=\"2400\" height=\"1600\"/>\n",
       "  </clipPath>\n",
       "</defs>\n",
       "<path clip-path=\"url(#clip740)\" d=\"\n",
       "M0 1600 L2400 1600 L2400 0 L0 0  Z\n",
       "  \" fill=\"#ffffff\" fill-rule=\"evenodd\" fill-opacity=\"1\"/>\n",
       "<defs>\n",
       "  <clipPath id=\"clip741\">\n",
       "    <rect x=\"480\" y=\"0\" width=\"1681\" height=\"1600\"/>\n",
       "  </clipPath>\n",
       "</defs>\n",
       "<path clip-path=\"url(#clip740)\" d=\"\n",
       "M309.38 1423.18 L2352.76 1423.18 L2352.76 47.2441 L309.38 47.2441  Z\n",
       "  \" fill=\"#ffffff\" fill-rule=\"evenodd\" fill-opacity=\"1\"/>\n",
       "<defs>\n",
       "  <clipPath id=\"clip742\">\n",
       "    <rect x=\"309\" y=\"47\" width=\"2044\" height=\"1377\"/>\n",
       "  </clipPath>\n",
       "</defs>\n",
       "<polyline clip-path=\"url(#clip742)\" style=\"stroke:#000000; stroke-linecap:round; stroke-linejoin:round; stroke-width:2; stroke-opacity:0.1; fill:none\" points=\"\n",
       "  367.211,1423.18 367.211,47.2441 \n",
       "  \"/>\n",
       "<polyline clip-path=\"url(#clip742)\" style=\"stroke:#000000; stroke-linecap:round; stroke-linejoin:round; stroke-width:2; stroke-opacity:0.1; fill:none\" points=\"\n",
       "  849.139,1423.18 849.139,47.2441 \n",
       "  \"/>\n",
       "<polyline clip-path=\"url(#clip742)\" style=\"stroke:#000000; stroke-linecap:round; stroke-linejoin:round; stroke-width:2; stroke-opacity:0.1; fill:none\" points=\"\n",
       "  1331.07,1423.18 1331.07,47.2441 \n",
       "  \"/>\n",
       "<polyline clip-path=\"url(#clip742)\" style=\"stroke:#000000; stroke-linecap:round; stroke-linejoin:round; stroke-width:2; stroke-opacity:0.1; fill:none\" points=\"\n",
       "  1813,1423.18 1813,47.2441 \n",
       "  \"/>\n",
       "<polyline clip-path=\"url(#clip742)\" style=\"stroke:#000000; stroke-linecap:round; stroke-linejoin:round; stroke-width:2; stroke-opacity:0.1; fill:none\" points=\"\n",
       "  2294.92,1423.18 2294.92,47.2441 \n",
       "  \"/>\n",
       "<polyline clip-path=\"url(#clip740)\" style=\"stroke:#000000; stroke-linecap:round; stroke-linejoin:round; stroke-width:4; stroke-opacity:1; fill:none\" points=\"\n",
       "  309.38,1423.18 2352.76,1423.18 \n",
       "  \"/>\n",
       "<polyline clip-path=\"url(#clip740)\" style=\"stroke:#000000; stroke-linecap:round; stroke-linejoin:round; stroke-width:4; stroke-opacity:1; fill:none\" points=\"\n",
       "  367.211,1423.18 367.211,1404.28 \n",
       "  \"/>\n",
       "<polyline clip-path=\"url(#clip740)\" style=\"stroke:#000000; stroke-linecap:round; stroke-linejoin:round; stroke-width:4; stroke-opacity:1; fill:none\" points=\"\n",
       "  849.139,1423.18 849.139,1404.28 \n",
       "  \"/>\n",
       "<polyline clip-path=\"url(#clip740)\" style=\"stroke:#000000; stroke-linecap:round; stroke-linejoin:round; stroke-width:4; stroke-opacity:1; fill:none\" points=\"\n",
       "  1331.07,1423.18 1331.07,1404.28 \n",
       "  \"/>\n",
       "<polyline clip-path=\"url(#clip740)\" style=\"stroke:#000000; stroke-linecap:round; stroke-linejoin:round; stroke-width:4; stroke-opacity:1; fill:none\" points=\"\n",
       "  1813,1423.18 1813,1404.28 \n",
       "  \"/>\n",
       "<polyline clip-path=\"url(#clip740)\" style=\"stroke:#000000; stroke-linecap:round; stroke-linejoin:round; stroke-width:4; stroke-opacity:1; fill:none\" points=\"\n",
       "  2294.92,1423.18 2294.92,1404.28 \n",
       "  \"/>\n",
       "<path clip-path=\"url(#clip740)\" d=\"M329.515 1454.1 Q325.903 1454.1 324.075 1457.66 Q322.269 1461.2 322.269 1468.33 Q322.269 1475.44 324.075 1479.01 Q325.903 1482.55 329.515 1482.55 Q333.149 1482.55 334.954 1479.01 Q336.783 1475.44 336.783 1468.33 Q336.783 1461.2 334.954 1457.66 Q333.149 1454.1 329.515 1454.1 M329.515 1450.39 Q335.325 1450.39 338.38 1455 Q341.459 1459.58 341.459 1468.33 Q341.459 1477.06 338.38 1481.67 Q335.325 1486.25 329.515 1486.25 Q323.704 1486.25 320.626 1481.67 Q317.57 1477.06 317.57 1468.33 Q317.57 1459.58 320.626 1455 Q323.704 1450.39 329.515 1450.39 Z\" fill=\"#000000\" fill-rule=\"evenodd\" fill-opacity=\"1\" /><path clip-path=\"url(#clip740)\" d=\"M349.676 1479.7 L354.561 1479.7 L354.561 1485.58 L349.676 1485.58 L349.676 1479.7 Z\" fill=\"#000000\" fill-rule=\"evenodd\" fill-opacity=\"1\" /><path clip-path=\"url(#clip740)\" d=\"M374.746 1454.1 Q371.135 1454.1 369.306 1457.66 Q367.5 1461.2 367.5 1468.33 Q367.5 1475.44 369.306 1479.01 Q371.135 1482.55 374.746 1482.55 Q378.38 1482.55 380.186 1479.01 Q382.014 1475.44 382.014 1468.33 Q382.014 1461.2 380.186 1457.66 Q378.38 1454.1 374.746 1454.1 M374.746 1450.39 Q380.556 1450.39 383.611 1455 Q386.69 1459.58 386.69 1468.33 Q386.69 1477.06 383.611 1481.67 Q380.556 1486.25 374.746 1486.25 Q368.936 1486.25 365.857 1481.67 Q362.801 1477.06 362.801 1468.33 Q362.801 1459.58 365.857 1455 Q368.936 1450.39 374.746 1450.39 Z\" fill=\"#000000\" fill-rule=\"evenodd\" fill-opacity=\"1\" /><path clip-path=\"url(#clip740)\" d=\"M404.908 1454.1 Q401.297 1454.1 399.468 1457.66 Q397.662 1461.2 397.662 1468.33 Q397.662 1475.44 399.468 1479.01 Q401.297 1482.55 404.908 1482.55 Q408.542 1482.55 410.347 1479.01 Q412.176 1475.44 412.176 1468.33 Q412.176 1461.2 410.347 1457.66 Q408.542 1454.1 404.908 1454.1 M404.908 1450.39 Q410.718 1450.39 413.773 1455 Q416.852 1459.58 416.852 1468.33 Q416.852 1477.06 413.773 1481.67 Q410.718 1486.25 404.908 1486.25 Q399.097 1486.25 396.019 1481.67 Q392.963 1477.06 392.963 1468.33 Q392.963 1459.58 396.019 1455 Q399.097 1450.39 404.908 1450.39 Z\" fill=\"#000000\" fill-rule=\"evenodd\" fill-opacity=\"1\" /><path clip-path=\"url(#clip740)\" d=\"M811.941 1454.1 Q808.329 1454.1 806.501 1457.66 Q804.695 1461.2 804.695 1468.33 Q804.695 1475.44 806.501 1479.01 Q808.329 1482.55 811.941 1482.55 Q815.575 1482.55 817.38 1479.01 Q819.209 1475.44 819.209 1468.33 Q819.209 1461.2 817.38 1457.66 Q815.575 1454.1 811.941 1454.1 M811.941 1450.39 Q817.751 1450.39 820.806 1455 Q823.885 1459.58 823.885 1468.33 Q823.885 1477.06 820.806 1481.67 Q817.751 1486.25 811.941 1486.25 Q806.13 1486.25 803.052 1481.67 Q799.996 1477.06 799.996 1468.33 Q799.996 1459.58 803.052 1455 Q806.13 1450.39 811.941 1450.39 Z\" fill=\"#000000\" fill-rule=\"evenodd\" fill-opacity=\"1\" /><path clip-path=\"url(#clip740)\" d=\"M832.102 1479.7 L836.987 1479.7 L836.987 1485.58 L832.102 1485.58 L832.102 1479.7 Z\" fill=\"#000000\" fill-rule=\"evenodd\" fill-opacity=\"1\" /><path clip-path=\"url(#clip740)\" d=\"M851.2 1481.64 L867.519 1481.64 L867.519 1485.58 L845.575 1485.58 L845.575 1481.64 Q848.237 1478.89 852.82 1474.26 Q857.426 1469.61 858.607 1468.27 Q860.852 1465.74 861.732 1464.01 Q862.635 1462.25 862.635 1460.56 Q862.635 1457.8 860.69 1456.07 Q858.769 1454.33 855.667 1454.33 Q853.468 1454.33 851.014 1455.09 Q848.584 1455.86 845.806 1457.41 L845.806 1452.69 Q848.63 1451.55 851.084 1450.97 Q853.538 1450.39 855.575 1450.39 Q860.945 1450.39 864.139 1453.08 Q867.334 1455.77 867.334 1460.26 Q867.334 1462.39 866.524 1464.31 Q865.737 1466.2 863.63 1468.8 Q863.051 1469.47 859.95 1472.69 Q856.848 1475.88 851.2 1481.64 Z\" fill=\"#000000\" fill-rule=\"evenodd\" fill-opacity=\"1\" /><path clip-path=\"url(#clip740)\" d=\"M877.38 1451.02 L895.736 1451.02 L895.736 1454.96 L881.662 1454.96 L881.662 1463.43 Q882.681 1463.08 883.699 1462.92 Q884.718 1462.73 885.736 1462.73 Q891.523 1462.73 894.903 1465.9 Q898.283 1469.08 898.283 1474.49 Q898.283 1480.07 894.81 1483.17 Q891.338 1486.25 885.019 1486.25 Q882.843 1486.25 880.574 1485.88 Q878.329 1485.51 875.922 1484.77 L875.922 1480.07 Q878.005 1481.2 880.227 1481.76 Q882.449 1482.32 884.926 1482.32 Q888.931 1482.32 891.269 1480.21 Q893.607 1478.1 893.607 1474.49 Q893.607 1470.88 891.269 1468.77 Q888.931 1466.67 884.926 1466.67 Q883.051 1466.67 881.176 1467.08 Q879.324 1467.5 877.38 1468.38 L877.38 1451.02 Z\" fill=\"#000000\" fill-rule=\"evenodd\" fill-opacity=\"1\" /><path clip-path=\"url(#clip740)\" d=\"M1293.37 1454.1 Q1289.76 1454.1 1287.93 1457.66 Q1286.13 1461.2 1286.13 1468.33 Q1286.13 1475.44 1287.93 1479.01 Q1289.76 1482.55 1293.37 1482.55 Q1297.01 1482.55 1298.81 1479.01 Q1300.64 1475.44 1300.64 1468.33 Q1300.64 1461.2 1298.81 1457.66 Q1297.01 1454.1 1293.37 1454.1 M1293.37 1450.39 Q1299.18 1450.39 1302.24 1455 Q1305.32 1459.58 1305.32 1468.33 Q1305.32 1477.06 1302.24 1481.67 Q1299.18 1486.25 1293.37 1486.25 Q1287.56 1486.25 1284.48 1481.67 Q1281.43 1477.06 1281.43 1468.33 Q1281.43 1459.58 1284.48 1455 Q1287.56 1450.39 1293.37 1450.39 Z\" fill=\"#000000\" fill-rule=\"evenodd\" fill-opacity=\"1\" /><path clip-path=\"url(#clip740)\" d=\"M1313.53 1479.7 L1318.42 1479.7 L1318.42 1485.58 L1313.53 1485.58 L1313.53 1479.7 Z\" fill=\"#000000\" fill-rule=\"evenodd\" fill-opacity=\"1\" /><path clip-path=\"url(#clip740)\" d=\"M1328.65 1451.02 L1347.01 1451.02 L1347.01 1454.96 L1332.93 1454.96 L1332.93 1463.43 Q1333.95 1463.08 1334.97 1462.92 Q1335.99 1462.73 1337.01 1462.73 Q1342.79 1462.73 1346.17 1465.9 Q1349.55 1469.08 1349.55 1474.49 Q1349.55 1480.07 1346.08 1483.17 Q1342.61 1486.25 1336.29 1486.25 Q1334.11 1486.25 1331.84 1485.88 Q1329.6 1485.51 1327.19 1484.77 L1327.19 1480.07 Q1329.27 1481.2 1331.5 1481.76 Q1333.72 1482.32 1336.2 1482.32 Q1340.2 1482.32 1342.54 1480.21 Q1344.88 1478.1 1344.88 1474.49 Q1344.88 1470.88 1342.54 1468.77 Q1340.2 1466.67 1336.2 1466.67 Q1334.32 1466.67 1332.45 1467.08 Q1330.59 1467.5 1328.65 1468.38 L1328.65 1451.02 Z\" fill=\"#000000\" fill-rule=\"evenodd\" fill-opacity=\"1\" /><path clip-path=\"url(#clip740)\" d=\"M1368.76 1454.1 Q1365.15 1454.1 1363.32 1457.66 Q1361.52 1461.2 1361.52 1468.33 Q1361.52 1475.44 1363.32 1479.01 Q1365.15 1482.55 1368.76 1482.55 Q1372.4 1482.55 1374.2 1479.01 Q1376.03 1475.44 1376.03 1468.33 Q1376.03 1461.2 1374.2 1457.66 Q1372.4 1454.1 1368.76 1454.1 M1368.76 1450.39 Q1374.57 1450.39 1377.63 1455 Q1380.71 1459.58 1380.71 1468.33 Q1380.71 1477.06 1377.63 1481.67 Q1374.57 1486.25 1368.76 1486.25 Q1362.95 1486.25 1359.88 1481.67 Q1356.82 1477.06 1356.82 1468.33 Q1356.82 1459.58 1359.88 1455 Q1362.95 1450.39 1368.76 1450.39 Z\" fill=\"#000000\" fill-rule=\"evenodd\" fill-opacity=\"1\" /><path clip-path=\"url(#clip740)\" d=\"M1775.8 1454.1 Q1772.19 1454.1 1770.36 1457.66 Q1768.55 1461.2 1768.55 1468.33 Q1768.55 1475.44 1770.36 1479.01 Q1772.19 1482.55 1775.8 1482.55 Q1779.43 1482.55 1781.24 1479.01 Q1783.07 1475.44 1783.07 1468.33 Q1783.07 1461.2 1781.24 1457.66 Q1779.43 1454.1 1775.8 1454.1 M1775.8 1450.39 Q1781.61 1450.39 1784.66 1455 Q1787.74 1459.58 1787.74 1468.33 Q1787.74 1477.06 1784.66 1481.67 Q1781.61 1486.25 1775.8 1486.25 Q1769.99 1486.25 1766.91 1481.67 Q1763.85 1477.06 1763.85 1468.33 Q1763.85 1459.58 1766.91 1455 Q1769.99 1450.39 1775.8 1450.39 Z\" fill=\"#000000\" fill-rule=\"evenodd\" fill-opacity=\"1\" /><path clip-path=\"url(#clip740)\" d=\"M1795.96 1479.7 L1800.84 1479.7 L1800.84 1485.58 L1795.96 1485.58 L1795.96 1479.7 Z\" fill=\"#000000\" fill-rule=\"evenodd\" fill-opacity=\"1\" /><path clip-path=\"url(#clip740)\" d=\"M1809.85 1451.02 L1832.07 1451.02 L1832.07 1453.01 L1819.52 1485.58 L1814.64 1485.58 L1826.45 1454.96 L1809.85 1454.96 L1809.85 1451.02 Z\" fill=\"#000000\" fill-rule=\"evenodd\" fill-opacity=\"1\" /><path clip-path=\"url(#clip740)\" d=\"M1841.24 1451.02 L1859.59 1451.02 L1859.59 1454.96 L1845.52 1454.96 L1845.52 1463.43 Q1846.54 1463.08 1847.56 1462.92 Q1848.57 1462.73 1849.59 1462.73 Q1855.38 1462.73 1858.76 1465.9 Q1862.14 1469.08 1862.14 1474.49 Q1862.14 1480.07 1858.67 1483.17 Q1855.19 1486.25 1848.88 1486.25 Q1846.7 1486.25 1844.43 1485.88 Q1842.19 1485.51 1839.78 1484.77 L1839.78 1480.07 Q1841.86 1481.2 1844.08 1481.76 Q1846.31 1482.32 1848.78 1482.32 Q1852.79 1482.32 1855.13 1480.21 Q1857.46 1478.1 1857.46 1474.49 Q1857.46 1470.88 1855.13 1468.77 Q1852.79 1466.67 1848.78 1466.67 Q1846.91 1466.67 1845.03 1467.08 Q1843.18 1467.5 1841.24 1468.38 L1841.24 1451.02 Z\" fill=\"#000000\" fill-rule=\"evenodd\" fill-opacity=\"1\" /><path clip-path=\"url(#clip740)\" d=\"M2247 1481.64 L2254.64 1481.64 L2254.64 1455.28 L2246.33 1456.95 L2246.33 1452.69 L2254.59 1451.02 L2259.26 1451.02 L2259.26 1481.64 L2266.9 1481.64 L2266.9 1485.58 L2247 1485.58 L2247 1481.64 Z\" fill=\"#000000\" fill-rule=\"evenodd\" fill-opacity=\"1\" /><path clip-path=\"url(#clip740)\" d=\"M2276.35 1479.7 L2281.23 1479.7 L2281.23 1485.58 L2276.35 1485.58 L2276.35 1479.7 Z\" fill=\"#000000\" fill-rule=\"evenodd\" fill-opacity=\"1\" /><path clip-path=\"url(#clip740)\" d=\"M2301.42 1454.1 Q2297.81 1454.1 2295.98 1457.66 Q2294.17 1461.2 2294.17 1468.33 Q2294.17 1475.44 2295.98 1479.01 Q2297.81 1482.55 2301.42 1482.55 Q2305.05 1482.55 2306.86 1479.01 Q2308.69 1475.44 2308.69 1468.33 Q2308.69 1461.2 2306.86 1457.66 Q2305.05 1454.1 2301.42 1454.1 M2301.42 1450.39 Q2307.23 1450.39 2310.28 1455 Q2313.36 1459.58 2313.36 1468.33 Q2313.36 1477.06 2310.28 1481.67 Q2307.23 1486.25 2301.42 1486.25 Q2295.61 1486.25 2292.53 1481.67 Q2289.47 1477.06 2289.47 1468.33 Q2289.47 1459.58 2292.53 1455 Q2295.61 1450.39 2301.42 1450.39 Z\" fill=\"#000000\" fill-rule=\"evenodd\" fill-opacity=\"1\" /><path clip-path=\"url(#clip740)\" d=\"M2331.58 1454.1 Q2327.97 1454.1 2326.14 1457.66 Q2324.33 1461.2 2324.33 1468.33 Q2324.33 1475.44 2326.14 1479.01 Q2327.97 1482.55 2331.58 1482.55 Q2335.21 1482.55 2337.02 1479.01 Q2338.85 1475.44 2338.85 1468.33 Q2338.85 1461.2 2337.02 1457.66 Q2335.21 1454.1 2331.58 1454.1 M2331.58 1450.39 Q2337.39 1450.39 2340.45 1455 Q2343.52 1459.58 2343.52 1468.33 Q2343.52 1477.06 2340.45 1481.67 Q2337.39 1486.25 2331.58 1486.25 Q2325.77 1486.25 2322.69 1481.67 Q2319.64 1477.06 2319.64 1468.33 Q2319.64 1459.58 2322.69 1455 Q2325.77 1450.39 2331.58 1450.39 Z\" fill=\"#000000\" fill-rule=\"evenodd\" fill-opacity=\"1\" /><path clip-path=\"url(#clip740)\" d=\"M897.675 1522.08 L897.675 1528.35 Q894.014 1526.6 890.768 1525.74 Q887.521 1524.88 884.498 1524.88 Q879.246 1524.88 876.381 1526.92 Q873.549 1528.96 873.549 1532.71 Q873.549 1535.87 875.426 1537.49 Q877.336 1539.08 882.62 1540.07 L886.503 1540.86 Q893.696 1542.23 897.102 1545.7 Q900.539 1549.14 900.539 1554.93 Q900.539 1561.84 895.892 1565.4 Q891.277 1568.97 882.333 1568.97 Q878.959 1568.97 875.14 1568.2 Q871.352 1567.44 867.278 1565.94 L867.278 1559.32 Q871.193 1561.52 874.949 1562.63 Q878.705 1563.75 882.333 1563.75 Q887.84 1563.75 890.831 1561.58 Q893.823 1559.42 893.823 1555.41 Q893.823 1551.91 891.659 1549.93 Q889.526 1547.96 884.625 1546.97 L880.71 1546.21 Q873.517 1544.78 870.302 1541.72 Q867.087 1538.67 867.087 1533.22 Q867.087 1526.92 871.512 1523.29 Q875.968 1519.66 883.765 1519.66 Q887.107 1519.66 890.577 1520.27 Q894.046 1520.87 897.675 1522.08 Z\" fill=\"#000000\" fill-rule=\"evenodd\" fill-opacity=\"1\" /><path clip-path=\"url(#clip740)\" d=\"M939.943 1546.53 L939.943 1568.04 L934.086 1568.04 L934.086 1546.72 Q934.086 1541.66 932.113 1539.14 Q930.14 1536.63 926.193 1536.63 Q921.45 1536.63 918.713 1539.65 Q915.976 1542.68 915.976 1547.9 L915.976 1568.04 L910.088 1568.04 L910.088 1518.52 L915.976 1518.52 L915.976 1537.93 Q918.077 1534.72 920.909 1533.13 Q923.774 1531.54 927.498 1531.54 Q933.641 1531.54 936.792 1535.36 Q939.943 1539.14 939.943 1546.53 Z\" fill=\"#000000\" fill-rule=\"evenodd\" fill-opacity=\"1\" /><path clip-path=\"url(#clip740)\" d=\"M967.825 1550.12 Q960.727 1550.12 957.99 1551.75 Q955.252 1553.37 955.252 1557.29 Q955.252 1560.4 957.289 1562.25 Q959.358 1564.07 962.891 1564.07 Q967.761 1564.07 970.689 1560.63 Q973.649 1557.16 973.649 1551.43 L973.649 1550.12 L967.825 1550.12 M979.506 1547.71 L979.506 1568.04 L973.649 1568.04 L973.649 1562.63 Q971.644 1565.88 968.652 1567.44 Q965.66 1568.97 961.332 1568.97 Q955.857 1568.97 952.611 1565.91 Q949.396 1562.82 949.396 1557.67 Q949.396 1551.65 953.406 1548.6 Q957.449 1545.54 965.438 1545.54 L973.649 1545.54 L973.649 1544.97 Q973.649 1540.93 970.976 1538.73 Q968.334 1536.5 963.528 1536.5 Q960.472 1536.5 957.576 1537.23 Q954.679 1537.97 952.006 1539.43 L952.006 1534.02 Q955.221 1532.78 958.244 1532.17 Q961.268 1531.54 964.133 1531.54 Q971.867 1531.54 975.686 1535.55 Q979.506 1539.56 979.506 1547.71 Z\" fill=\"#000000\" fill-rule=\"evenodd\" fill-opacity=\"1\" /><path clip-path=\"url(#clip740)\" d=\"M1012.23 1537.87 Q1011.24 1537.3 1010.06 1537.04 Q1008.92 1536.76 1007.51 1536.76 Q1002.55 1536.76 999.876 1540 Q997.234 1543.22 997.234 1549.27 L997.234 1568.04 L991.346 1568.04 L991.346 1532.4 L997.234 1532.4 L997.234 1537.93 Q999.08 1534.69 1002.04 1533.13 Q1005 1531.54 1009.23 1531.54 Q1009.84 1531.54 1010.57 1531.63 Q1011.3 1531.7 1012.19 1531.85 L1012.23 1537.87 Z\" fill=\"#000000\" fill-rule=\"evenodd\" fill-opacity=\"1\" /><path clip-path=\"url(#clip740)\" d=\"M1047.43 1548.76 L1047.43 1551.62 L1020.5 1551.62 Q1020.88 1557.67 1024.13 1560.85 Q1027.41 1564 1033.23 1564 Q1036.61 1564 1039.76 1563.17 Q1042.94 1562.35 1046.06 1560.69 L1046.06 1566.23 Q1042.91 1567.57 1039.6 1568.27 Q1036.29 1568.97 1032.88 1568.97 Q1024.35 1568.97 1019.36 1564 Q1014.39 1559.04 1014.39 1550.57 Q1014.39 1541.82 1019.1 1536.69 Q1023.84 1531.54 1031.86 1531.54 Q1039.06 1531.54 1043.23 1536.18 Q1047.43 1540.8 1047.43 1548.76 M1041.57 1547.04 Q1041.51 1542.23 1038.87 1539.37 Q1036.26 1536.5 1031.93 1536.5 Q1027.03 1536.5 1024.07 1539.27 Q1021.14 1542.04 1020.69 1547.07 L1041.57 1547.04 Z\" fill=\"#000000\" fill-rule=\"evenodd\" fill-opacity=\"1\" /><path clip-path=\"url(#clip740)\" d=\"M1077.76 1532.4 L1083.62 1532.4 L1083.62 1568.04 L1077.76 1568.04 L1077.76 1532.4 M1077.76 1518.52 L1083.62 1518.52 L1083.62 1525.93 L1077.76 1525.93 L1077.76 1518.52 Z\" fill=\"#000000\" fill-rule=\"evenodd\" fill-opacity=\"1\" /><path clip-path=\"url(#clip740)\" d=\"M1125.5 1546.53 L1125.5 1568.04 L1119.65 1568.04 L1119.65 1546.72 Q1119.65 1541.66 1117.67 1539.14 Q1115.7 1536.63 1111.75 1536.63 Q1107.01 1536.63 1104.27 1539.65 Q1101.54 1542.68 1101.54 1547.9 L1101.54 1568.04 L1095.65 1568.04 L1095.65 1532.4 L1101.54 1532.4 L1101.54 1537.93 Q1103.64 1534.72 1106.47 1533.13 Q1109.33 1531.54 1113.06 1531.54 Q1119.2 1531.54 1122.35 1535.36 Q1125.5 1539.14 1125.5 1546.53 Z\" fill=\"#000000\" fill-rule=\"evenodd\" fill-opacity=\"1\" /><path clip-path=\"url(#clip740)\" d=\"M1159.91 1533.45 L1159.91 1538.98 Q1157.43 1537.71 1154.75 1537.07 Q1152.08 1536.44 1149.22 1536.44 Q1144.85 1536.44 1142.66 1537.77 Q1140.49 1539.11 1140.49 1541.79 Q1140.49 1543.82 1142.05 1545 Q1143.61 1546.15 1148.32 1547.2 L1150.33 1547.64 Q1156.57 1548.98 1159.18 1551.43 Q1161.82 1553.85 1161.82 1558.21 Q1161.82 1563.17 1157.87 1566.07 Q1153.96 1568.97 1147.08 1568.97 Q1144.22 1568.97 1141.1 1568.39 Q1138.01 1567.85 1134.57 1566.74 L1134.57 1560.69 Q1137.82 1562.38 1140.97 1563.24 Q1144.12 1564.07 1147.21 1564.07 Q1151.35 1564.07 1153.58 1562.66 Q1155.8 1561.23 1155.8 1558.65 Q1155.8 1556.27 1154.18 1554.99 Q1152.59 1553.72 1147.15 1552.54 L1145.11 1552.07 Q1139.67 1550.92 1137.25 1548.56 Q1134.83 1546.18 1134.83 1542.04 Q1134.83 1537.01 1138.39 1534.27 Q1141.96 1531.54 1148.52 1531.54 Q1151.76 1531.54 1154.63 1532.01 Q1157.49 1532.49 1159.91 1533.45 Z\" fill=\"#000000\" fill-rule=\"evenodd\" fill-opacity=\"1\" /><path clip-path=\"url(#clip740)\" d=\"M1201.64 1548.76 L1201.64 1551.62 L1174.71 1551.62 Q1175.09 1557.67 1178.34 1560.85 Q1181.62 1564 1187.44 1564 Q1190.82 1564 1193.97 1563.17 Q1197.15 1562.35 1200.27 1560.69 L1200.27 1566.23 Q1197.12 1567.57 1193.81 1568.27 Q1190.5 1568.97 1187.09 1568.97 Q1178.56 1568.97 1173.56 1564 Q1168.6 1559.04 1168.6 1550.57 Q1168.6 1541.82 1173.31 1536.69 Q1178.05 1531.54 1186.07 1531.54 Q1193.27 1531.54 1197.44 1536.18 Q1201.64 1540.8 1201.64 1548.76 M1195.78 1547.04 Q1195.72 1542.23 1193.08 1539.37 Q1190.47 1536.5 1186.14 1536.5 Q1181.23 1536.5 1178.27 1539.27 Q1175.35 1542.04 1174.9 1547.07 L1195.78 1547.04 Z\" fill=\"#000000\" fill-rule=\"evenodd\" fill-opacity=\"1\" /><path clip-path=\"url(#clip740)\" d=\"M1240.88 1546.53 L1240.88 1568.04 L1235.03 1568.04 L1235.03 1546.72 Q1235.03 1541.66 1233.05 1539.14 Q1231.08 1536.63 1227.13 1536.63 Q1222.39 1536.63 1219.65 1539.65 Q1216.91 1542.68 1216.91 1547.9 L1216.91 1568.04 L1211.03 1568.04 L1211.03 1532.4 L1216.91 1532.4 L1216.91 1537.93 Q1219.02 1534.72 1221.85 1533.13 Q1224.71 1531.54 1228.44 1531.54 Q1234.58 1531.54 1237.73 1535.36 Q1240.88 1539.14 1240.88 1546.53 Z\" fill=\"#000000\" fill-rule=\"evenodd\" fill-opacity=\"1\" /><path clip-path=\"url(#clip740)\" d=\"M1275.29 1533.45 L1275.29 1538.98 Q1272.81 1537.71 1270.13 1537.07 Q1267.46 1536.44 1264.59 1536.44 Q1260.23 1536.44 1258.04 1537.77 Q1255.87 1539.11 1255.87 1541.79 Q1255.87 1543.82 1257.43 1545 Q1258.99 1546.15 1263.7 1547.2 L1265.71 1547.64 Q1271.95 1548.98 1274.56 1551.43 Q1277.2 1553.85 1277.2 1558.21 Q1277.2 1563.17 1273.25 1566.07 Q1269.34 1568.97 1262.46 1568.97 Q1259.6 1568.97 1256.48 1568.39 Q1253.39 1567.85 1249.95 1566.74 L1249.95 1560.69 Q1253.2 1562.38 1256.35 1563.24 Q1259.5 1564.07 1262.59 1564.07 Q1266.73 1564.07 1268.95 1562.66 Q1271.18 1561.23 1271.18 1558.65 Q1271.18 1556.27 1269.56 1554.99 Q1267.97 1553.72 1262.53 1552.54 L1260.49 1552.07 Q1255.05 1550.92 1252.63 1548.56 Q1250.21 1546.18 1250.21 1542.04 Q1250.21 1537.01 1253.77 1534.27 Q1257.34 1531.54 1263.89 1531.54 Q1267.14 1531.54 1270 1532.01 Q1272.87 1532.49 1275.29 1533.45 Z\" fill=\"#000000\" fill-rule=\"evenodd\" fill-opacity=\"1\" /><path clip-path=\"url(#clip740)\" d=\"M1286.52 1532.4 L1292.38 1532.4 L1292.38 1568.04 L1286.52 1568.04 L1286.52 1532.4 M1286.52 1518.52 L1292.38 1518.52 L1292.38 1525.93 L1286.52 1525.93 L1286.52 1518.52 Z\" fill=\"#000000\" fill-rule=\"evenodd\" fill-opacity=\"1\" /><path clip-path=\"url(#clip740)\" d=\"M1310.43 1522.27 L1310.43 1532.4 L1322.49 1532.4 L1322.49 1536.95 L1310.43 1536.95 L1310.43 1556.3 Q1310.43 1560.66 1311.6 1561.9 Q1312.81 1563.14 1316.47 1563.14 L1322.49 1563.14 L1322.49 1568.04 L1316.47 1568.04 Q1309.69 1568.04 1307.12 1565.53 Q1304.54 1562.98 1304.54 1556.3 L1304.54 1536.95 L1300.24 1536.95 L1300.24 1532.4 L1304.54 1532.4 L1304.54 1522.27 L1310.43 1522.27 Z\" fill=\"#000000\" fill-rule=\"evenodd\" fill-opacity=\"1\" /><path clip-path=\"url(#clip740)\" d=\"M1330.19 1532.4 L1336.05 1532.4 L1336.05 1568.04 L1330.19 1568.04 L1330.19 1532.4 M1330.19 1518.52 L1336.05 1518.52 L1336.05 1525.93 L1330.19 1525.93 L1330.19 1518.52 Z\" fill=\"#000000\" fill-rule=\"evenodd\" fill-opacity=\"1\" /><path clip-path=\"url(#clip740)\" d=\"M1344.1 1532.4 L1350.31 1532.4 L1361.45 1562.31 L1372.59 1532.4 L1378.79 1532.4 L1365.43 1568.04 L1357.47 1568.04 L1344.1 1532.4 Z\" fill=\"#000000\" fill-rule=\"evenodd\" fill-opacity=\"1\" /><path clip-path=\"url(#clip740)\" d=\"M1417.37 1548.76 L1417.37 1551.62 L1390.44 1551.62 Q1390.83 1557.67 1394.07 1560.85 Q1397.35 1564 1403.18 1564 Q1406.55 1564 1409.7 1563.17 Q1412.88 1562.35 1416 1560.69 L1416 1566.23 Q1412.85 1567.57 1409.54 1568.27 Q1406.23 1568.97 1402.83 1568.97 Q1394.3 1568.97 1389.3 1564 Q1384.33 1559.04 1384.33 1550.57 Q1384.33 1541.82 1389.04 1536.69 Q1393.79 1531.54 1401.81 1531.54 Q1409 1531.54 1413.17 1536.18 Q1417.37 1540.8 1417.37 1548.76 M1411.51 1547.04 Q1411.45 1542.23 1408.81 1539.37 Q1406.2 1536.5 1401.87 1536.5 Q1396.97 1536.5 1394.01 1539.27 Q1391.08 1542.04 1390.63 1547.07 L1411.51 1547.04 Z\" fill=\"#000000\" fill-rule=\"evenodd\" fill-opacity=\"1\" /><path clip-path=\"url(#clip740)\" d=\"M1473.36 1533.76 L1473.36 1539.24 Q1470.87 1537.87 1468.36 1537.2 Q1465.88 1536.5 1463.33 1536.5 Q1457.63 1536.5 1454.48 1540.13 Q1451.33 1543.73 1451.33 1550.25 Q1451.33 1556.78 1454.48 1560.4 Q1457.63 1564 1463.33 1564 Q1465.88 1564 1468.36 1563.33 Q1470.87 1562.63 1473.36 1561.26 L1473.36 1566.68 Q1470.91 1567.82 1468.26 1568.39 Q1465.65 1568.97 1462.69 1568.97 Q1454.64 1568.97 1449.9 1563.91 Q1445.16 1558.85 1445.16 1550.25 Q1445.16 1541.53 1449.93 1536.53 Q1454.74 1531.54 1463.08 1531.54 Q1465.78 1531.54 1468.36 1532.11 Q1470.94 1532.65 1473.36 1533.76 Z\" fill=\"#000000\" fill-rule=\"evenodd\" fill-opacity=\"1\" /><path clip-path=\"url(#clip740)\" d=\"M1497.36 1536.5 Q1492.65 1536.5 1489.91 1540.19 Q1487.17 1543.85 1487.17 1550.25 Q1487.17 1556.65 1489.88 1560.34 Q1492.61 1564 1497.36 1564 Q1502.03 1564 1504.77 1560.31 Q1507.51 1556.62 1507.51 1550.25 Q1507.51 1543.92 1504.77 1540.23 Q1502.03 1536.5 1497.36 1536.5 M1497.36 1531.54 Q1504.99 1531.54 1509.36 1536.5 Q1513.72 1541.47 1513.72 1550.25 Q1513.72 1559 1509.36 1564 Q1504.99 1568.97 1497.36 1568.97 Q1489.69 1568.97 1485.32 1564 Q1481 1559 1481 1550.25 Q1481 1541.47 1485.32 1536.5 Q1489.69 1531.54 1497.36 1531.54 Z\" fill=\"#000000\" fill-rule=\"evenodd\" fill-opacity=\"1\" /><path clip-path=\"url(#clip740)\" d=\"M1553.06 1546.53 L1553.06 1568.04 L1547.2 1568.04 L1547.2 1546.72 Q1547.2 1541.66 1545.23 1539.14 Q1543.25 1536.63 1539.31 1536.63 Q1534.56 1536.63 1531.83 1539.65 Q1529.09 1542.68 1529.09 1547.9 L1529.09 1568.04 L1523.2 1568.04 L1523.2 1532.4 L1529.09 1532.4 L1529.09 1537.93 Q1531.19 1534.72 1534.02 1533.13 Q1536.89 1531.54 1540.61 1531.54 Q1546.75 1531.54 1549.9 1535.36 Q1553.06 1539.14 1553.06 1546.53 Z\" fill=\"#000000\" fill-rule=\"evenodd\" fill-opacity=\"1\" /><path clip-path=\"url(#clip740)\" d=\"M1587.46 1533.45 L1587.46 1538.98 Q1584.98 1537.71 1582.31 1537.07 Q1579.63 1536.44 1576.77 1536.44 Q1572.41 1536.44 1570.21 1537.77 Q1568.05 1539.11 1568.05 1541.79 Q1568.05 1543.82 1569.61 1545 Q1571.17 1546.15 1575.88 1547.2 L1577.88 1547.64 Q1584.12 1548.98 1586.73 1551.43 Q1589.37 1553.85 1589.37 1558.21 Q1589.37 1563.17 1585.43 1566.07 Q1581.51 1568.97 1574.64 1568.97 Q1571.77 1568.97 1568.65 1568.39 Q1565.56 1567.85 1562.13 1566.74 L1562.13 1560.69 Q1565.37 1562.38 1568.52 1563.24 Q1571.68 1564.07 1574.76 1564.07 Q1578.9 1564.07 1581.13 1562.66 Q1583.36 1561.23 1583.36 1558.65 Q1583.36 1556.27 1581.73 1554.99 Q1580.14 1553.72 1574.7 1552.54 L1572.66 1552.07 Q1567.22 1550.92 1564.8 1548.56 Q1562.38 1546.18 1562.38 1542.04 Q1562.38 1537.01 1565.95 1534.27 Q1569.51 1531.54 1576.07 1531.54 Q1579.31 1531.54 1582.18 1532.01 Q1585.04 1532.49 1587.46 1533.45 Z\" fill=\"#000000\" fill-rule=\"evenodd\" fill-opacity=\"1\" /><path clip-path=\"url(#clip740)\" d=\"M1598.09 1553.98 L1598.09 1532.4 L1603.95 1532.4 L1603.95 1553.75 Q1603.95 1558.81 1605.92 1561.36 Q1607.9 1563.87 1611.84 1563.87 Q1616.59 1563.87 1619.32 1560.85 Q1622.09 1557.83 1622.09 1552.61 L1622.09 1532.4 L1627.95 1532.4 L1627.95 1568.04 L1622.09 1568.04 L1622.09 1562.57 Q1619.96 1565.82 1617.13 1567.41 Q1614.33 1568.97 1610.6 1568.97 Q1604.46 1568.97 1601.28 1565.15 Q1598.09 1561.33 1598.09 1553.98 M1612.83 1531.54 L1612.83 1531.54 Z\" fill=\"#000000\" fill-rule=\"evenodd\" fill-opacity=\"1\" /><path clip-path=\"url(#clip740)\" d=\"M1667.77 1539.24 Q1669.96 1535.29 1673.02 1533.41 Q1676.07 1531.54 1680.21 1531.54 Q1685.78 1531.54 1688.8 1535.45 Q1691.83 1539.33 1691.83 1546.53 L1691.83 1568.04 L1685.94 1568.04 L1685.94 1546.72 Q1685.94 1541.59 1684.13 1539.11 Q1682.31 1536.63 1678.59 1536.63 Q1674.04 1536.63 1671.39 1539.65 Q1668.75 1542.68 1668.75 1547.9 L1668.75 1568.04 L1662.86 1568.04 L1662.86 1546.72 Q1662.86 1541.56 1661.05 1539.11 Q1659.24 1536.63 1655.45 1536.63 Q1650.96 1536.63 1648.32 1539.68 Q1645.68 1542.71 1645.68 1547.9 L1645.68 1568.04 L1639.79 1568.04 L1639.79 1532.4 L1645.68 1532.4 L1645.68 1537.93 Q1647.68 1534.66 1650.48 1533.1 Q1653.28 1531.54 1657.14 1531.54 Q1661.02 1531.54 1663.72 1533.51 Q1666.46 1535.48 1667.77 1539.24 Z\" fill=\"#000000\" fill-rule=\"evenodd\" fill-opacity=\"1\" /><path clip-path=\"url(#clip740)\" d=\"M1734 1548.76 L1734 1551.62 L1707.07 1551.62 Q1707.46 1557.67 1710.7 1560.85 Q1713.98 1564 1719.81 1564 Q1723.18 1564 1726.33 1563.17 Q1729.51 1562.35 1732.63 1560.69 L1732.63 1566.23 Q1729.48 1567.57 1726.17 1568.27 Q1722.86 1568.97 1719.46 1568.97 Q1710.93 1568.97 1705.93 1564 Q1700.96 1559.04 1700.96 1550.57 Q1700.96 1541.82 1705.67 1536.69 Q1710.42 1531.54 1718.44 1531.54 Q1725.63 1531.54 1729.8 1536.18 Q1734 1540.8 1734 1548.76 M1728.14 1547.04 Q1728.08 1542.23 1725.44 1539.37 Q1722.83 1536.5 1718.5 1536.5 Q1713.6 1536.5 1710.64 1539.27 Q1707.71 1542.04 1707.27 1547.07 L1728.14 1547.04 Z\" fill=\"#000000\" fill-rule=\"evenodd\" fill-opacity=\"1\" /><path clip-path=\"url(#clip740)\" d=\"M1764.27 1537.87 Q1763.28 1537.3 1762.11 1537.04 Q1760.96 1536.76 1759.56 1536.76 Q1754.59 1536.76 1751.92 1540 Q1749.28 1543.22 1749.28 1549.27 L1749.28 1568.04 L1743.39 1568.04 L1743.39 1532.4 L1749.28 1532.4 L1749.28 1537.93 Q1751.12 1534.69 1754.08 1533.13 Q1757.04 1531.54 1761.28 1531.54 Q1761.88 1531.54 1762.61 1531.63 Q1763.35 1531.7 1764.24 1531.85 L1764.27 1537.87 Z\" fill=\"#000000\" fill-rule=\"evenodd\" fill-opacity=\"1\" /><path clip-path=\"url(#clip740)\" d=\"M1793.14 1533.45 L1793.14 1538.98 Q1790.66 1537.71 1787.98 1537.07 Q1785.31 1536.44 1782.44 1536.44 Q1778.08 1536.44 1775.89 1537.77 Q1773.72 1539.11 1773.72 1541.79 Q1773.72 1543.82 1775.28 1545 Q1776.84 1546.15 1781.55 1547.2 L1783.56 1547.64 Q1789.8 1548.98 1792.41 1551.43 Q1795.05 1553.85 1795.05 1558.21 Q1795.05 1563.17 1791.1 1566.07 Q1787.19 1568.97 1780.31 1568.97 Q1777.45 1568.97 1774.33 1568.39 Q1771.24 1567.85 1767.8 1566.74 L1767.8 1560.69 Q1771.05 1562.38 1774.2 1563.24 Q1777.35 1564.07 1780.44 1564.07 Q1784.58 1564.07 1786.8 1562.66 Q1789.03 1561.23 1789.03 1558.65 Q1789.03 1556.27 1787.41 1554.99 Q1785.82 1553.72 1780.38 1552.54 L1778.34 1552.07 Q1772.9 1550.92 1770.48 1548.56 Q1768.06 1546.18 1768.06 1542.04 Q1768.06 1537.01 1771.62 1534.27 Q1775.19 1531.54 1781.74 1531.54 Q1784.99 1531.54 1787.85 1532.01 Q1790.72 1532.49 1793.14 1533.45 Z\" fill=\"#000000\" fill-rule=\"evenodd\" fill-opacity=\"1\" /><polyline clip-path=\"url(#clip742)\" style=\"stroke:#000000; stroke-linecap:round; stroke-linejoin:round; stroke-width:2; stroke-opacity:0.1; fill:none\" points=\"\n",
       "  309.38,1322.15 2352.76,1322.15 \n",
       "  \"/>\n",
       "<polyline clip-path=\"url(#clip742)\" style=\"stroke:#000000; stroke-linecap:round; stroke-linejoin:round; stroke-width:2; stroke-opacity:0.1; fill:none\" points=\"\n",
       "  309.38,1016.55 2352.76,1016.55 \n",
       "  \"/>\n",
       "<polyline clip-path=\"url(#clip742)\" style=\"stroke:#000000; stroke-linecap:round; stroke-linejoin:round; stroke-width:2; stroke-opacity:0.1; fill:none\" points=\"\n",
       "  309.38,710.95 2352.76,710.95 \n",
       "  \"/>\n",
       "<polyline clip-path=\"url(#clip742)\" style=\"stroke:#000000; stroke-linecap:round; stroke-linejoin:round; stroke-width:2; stroke-opacity:0.1; fill:none\" points=\"\n",
       "  309.38,405.349 2352.76,405.349 \n",
       "  \"/>\n",
       "<polyline clip-path=\"url(#clip742)\" style=\"stroke:#000000; stroke-linecap:round; stroke-linejoin:round; stroke-width:2; stroke-opacity:0.1; fill:none\" points=\"\n",
       "  309.38,99.7479 2352.76,99.7479 \n",
       "  \"/>\n",
       "<polyline clip-path=\"url(#clip740)\" style=\"stroke:#000000; stroke-linecap:round; stroke-linejoin:round; stroke-width:4; stroke-opacity:1; fill:none\" points=\"\n",
       "  309.38,1423.18 309.38,47.2441 \n",
       "  \"/>\n",
       "<polyline clip-path=\"url(#clip740)\" style=\"stroke:#000000; stroke-linecap:round; stroke-linejoin:round; stroke-width:4; stroke-opacity:1; fill:none\" points=\"\n",
       "  309.38,1322.15 328.277,1322.15 \n",
       "  \"/>\n",
       "<polyline clip-path=\"url(#clip740)\" style=\"stroke:#000000; stroke-linecap:round; stroke-linejoin:round; stroke-width:4; stroke-opacity:1; fill:none\" points=\"\n",
       "  309.38,1016.55 328.277,1016.55 \n",
       "  \"/>\n",
       "<polyline clip-path=\"url(#clip740)\" style=\"stroke:#000000; stroke-linecap:round; stroke-linejoin:round; stroke-width:4; stroke-opacity:1; fill:none\" points=\"\n",
       "  309.38,710.95 328.277,710.95 \n",
       "  \"/>\n",
       "<polyline clip-path=\"url(#clip740)\" style=\"stroke:#000000; stroke-linecap:round; stroke-linejoin:round; stroke-width:4; stroke-opacity:1; fill:none\" points=\"\n",
       "  309.38,405.349 328.277,405.349 \n",
       "  \"/>\n",
       "<polyline clip-path=\"url(#clip740)\" style=\"stroke:#000000; stroke-linecap:round; stroke-linejoin:round; stroke-width:4; stroke-opacity:1; fill:none\" points=\"\n",
       "  309.38,99.7479 328.277,99.7479 \n",
       "  \"/>\n",
       "<path clip-path=\"url(#clip740)\" d=\"M129.885 1320.8 Q133.242 1321.52 135.117 1323.78 Q137.015 1326.05 137.015 1329.39 Q137.015 1334.5 133.496 1337.3 Q129.978 1340.1 123.496 1340.1 Q121.32 1340.1 119.006 1339.66 Q116.714 1339.25 114.26 1338.39 L114.26 1333.88 Q116.205 1335.01 118.519 1335.59 Q120.834 1336.17 123.357 1336.17 Q127.755 1336.17 130.047 1334.43 Q132.362 1332.7 132.362 1329.39 Q132.362 1326.33 130.209 1324.62 Q128.08 1322.88 124.26 1322.88 L120.232 1322.88 L120.232 1319.04 L124.445 1319.04 Q127.894 1319.04 129.723 1317.67 Q131.552 1316.28 131.552 1313.69 Q131.552 1311.03 129.654 1309.62 Q127.779 1308.18 124.26 1308.18 Q122.339 1308.18 120.14 1308.6 Q117.941 1309.02 115.302 1309.9 L115.302 1305.73 Q117.964 1304.99 120.279 1304.62 Q122.617 1304.25 124.677 1304.25 Q130.001 1304.25 133.103 1306.68 Q136.204 1309.09 136.204 1313.21 Q136.204 1316.08 134.561 1318.07 Q132.917 1320.03 129.885 1320.8 Z\" fill=\"#000000\" fill-rule=\"evenodd\" fill-opacity=\"1\" /><path clip-path=\"url(#clip740)\" d=\"M144.7 1304.87 L166.922 1304.87 L166.922 1306.86 L154.376 1339.43 L149.491 1339.43 L161.297 1308.81 L144.7 1308.81 L144.7 1304.87 Z\" fill=\"#000000\" fill-rule=\"evenodd\" fill-opacity=\"1\" /><path clip-path=\"url(#clip740)\" d=\"M176.042 1333.55 L180.926 1333.55 L180.926 1339.43 L176.042 1339.43 L176.042 1333.55 Z\" fill=\"#000000\" fill-rule=\"evenodd\" fill-opacity=\"1\" /><path clip-path=\"url(#clip740)\" d=\"M191.158 1304.87 L209.514 1304.87 L209.514 1308.81 L195.44 1308.81 L195.44 1317.28 Q196.459 1316.93 197.477 1316.77 Q198.496 1316.59 199.514 1316.59 Q205.301 1316.59 208.681 1319.76 Q212.061 1322.93 212.061 1328.34 Q212.061 1333.92 208.588 1337.03 Q205.116 1340.1 198.797 1340.1 Q196.621 1340.1 194.352 1339.73 Q192.107 1339.36 189.7 1338.62 L189.7 1333.92 Q191.783 1335.06 194.005 1335.61 Q196.227 1336.17 198.704 1336.17 Q202.709 1336.17 205.047 1334.06 Q207.385 1331.96 207.385 1328.34 Q207.385 1324.73 205.047 1322.63 Q202.709 1320.52 198.704 1320.52 Q196.829 1320.52 194.954 1320.94 Q193.102 1321.35 191.158 1322.23 L191.158 1304.87 Z\" fill=\"#000000\" fill-rule=\"evenodd\" fill-opacity=\"1\" /><path clip-path=\"url(#clip740)\" d=\"M231.273 1307.95 Q227.662 1307.95 225.834 1311.52 Q224.028 1315.06 224.028 1322.19 Q224.028 1329.29 225.834 1332.86 Q227.662 1336.4 231.273 1336.4 Q234.908 1336.4 236.713 1332.86 Q238.542 1329.29 238.542 1322.19 Q238.542 1315.06 236.713 1311.52 Q234.908 1307.95 231.273 1307.95 M231.273 1304.25 Q237.084 1304.25 240.139 1308.85 Q243.218 1313.44 243.218 1322.19 Q243.218 1330.91 240.139 1335.52 Q237.084 1340.1 231.273 1340.1 Q225.463 1340.1 222.385 1335.52 Q219.329 1330.91 219.329 1322.19 Q219.329 1313.44 222.385 1308.85 Q225.463 1304.25 231.273 1304.25 Z\" fill=\"#000000\" fill-rule=\"evenodd\" fill-opacity=\"1\" /><path clip-path=\"url(#clip740)\" d=\"M261.435 1307.95 Q257.824 1307.95 255.996 1311.52 Q254.19 1315.06 254.19 1322.19 Q254.19 1329.29 255.996 1332.86 Q257.824 1336.4 261.435 1336.4 Q265.07 1336.4 266.875 1332.86 Q268.704 1329.29 268.704 1322.19 Q268.704 1315.06 266.875 1311.52 Q265.07 1307.95 261.435 1307.95 M261.435 1304.25 Q267.245 1304.25 270.301 1308.85 Q273.38 1313.44 273.38 1322.19 Q273.38 1330.91 270.301 1335.52 Q267.245 1340.1 261.435 1340.1 Q255.625 1340.1 252.546 1335.52 Q249.491 1330.91 249.491 1322.19 Q249.491 1313.44 252.546 1308.85 Q255.625 1304.25 261.435 1304.25 Z\" fill=\"#000000\" fill-rule=\"evenodd\" fill-opacity=\"1\" /><path clip-path=\"url(#clip740)\" d=\"M130.88 1015.2 Q134.237 1015.91 136.112 1018.18 Q138.01 1020.45 138.01 1023.79 Q138.01 1028.9 134.492 1031.7 Q130.973 1034.5 124.492 1034.5 Q122.316 1034.5 120.001 1034.06 Q117.709 1033.65 115.256 1032.79 L115.256 1028.28 Q117.2 1029.41 119.515 1029.99 Q121.83 1030.57 124.353 1030.57 Q128.751 1030.57 131.042 1028.83 Q133.357 1027.1 133.357 1023.79 Q133.357 1020.73 131.205 1019.02 Q129.075 1017.28 125.255 1017.28 L121.228 1017.28 L121.228 1013.44 L125.441 1013.44 Q128.89 1013.44 130.718 1012.07 Q132.547 1010.68 132.547 1008.09 Q132.547 1005.43 130.649 1004.02 Q128.774 1002.58 125.255 1002.58 Q123.334 1002.58 121.135 1003 Q118.936 1003.42 116.297 1004.29 L116.297 1000.13 Q118.959 999.387 121.274 999.017 Q123.612 998.647 125.672 998.647 Q130.996 998.647 134.098 1001.08 Q137.2 1003.48 137.2 1007.6 Q137.2 1010.48 135.556 1012.47 Q133.913 1014.43 130.88 1015.2 Z\" fill=\"#000000\" fill-rule=\"evenodd\" fill-opacity=\"1\" /><path clip-path=\"url(#clip740)\" d=\"M145.695 999.272 L167.917 999.272 L167.917 1001.26 L155.371 1033.83 L150.487 1033.83 L162.292 1003.21 L145.695 1003.21 L145.695 999.272 Z\" fill=\"#000000\" fill-rule=\"evenodd\" fill-opacity=\"1\" /><path clip-path=\"url(#clip740)\" d=\"M177.038 1027.95 L181.922 1027.95 L181.922 1033.83 L177.038 1033.83 L177.038 1027.95 Z\" fill=\"#000000\" fill-rule=\"evenodd\" fill-opacity=\"1\" /><path clip-path=\"url(#clip740)\" d=\"M192.153 999.272 L210.51 999.272 L210.51 1003.21 L196.436 1003.21 L196.436 1011.68 Q197.454 1011.33 198.473 1011.17 Q199.491 1010.98 200.51 1010.98 Q206.297 1010.98 209.676 1014.16 Q213.056 1017.33 213.056 1022.74 Q213.056 1028.32 209.584 1031.42 Q206.112 1034.5 199.792 1034.5 Q197.616 1034.5 195.348 1034.13 Q193.102 1033.76 190.695 1033.02 L190.695 1028.32 Q192.778 1029.46 195 1030.01 Q197.223 1030.57 199.7 1030.57 Q203.704 1030.57 206.042 1028.46 Q208.38 1026.35 208.38 1022.74 Q208.38 1019.13 206.042 1017.03 Q203.704 1014.92 199.7 1014.92 Q197.825 1014.92 195.95 1015.34 Q194.098 1015.75 192.153 1016.63 L192.153 999.272 Z\" fill=\"#000000\" fill-rule=\"evenodd\" fill-opacity=\"1\" /><path clip-path=\"url(#clip740)\" d=\"M226.297 1029.9 L242.616 1029.9 L242.616 1033.83 L220.672 1033.83 L220.672 1029.9 Q223.334 1027.14 227.917 1022.51 Q232.523 1017.86 233.704 1016.52 Q235.949 1013.99 236.829 1012.26 Q237.732 1010.5 237.732 1008.81 Q237.732 1006.05 235.787 1004.32 Q233.866 1002.58 230.764 1002.58 Q228.565 1002.58 226.111 1003.35 Q223.681 1004.11 220.903 1005.66 L220.903 1000.94 Q223.727 999.804 226.181 999.225 Q228.635 998.647 230.672 998.647 Q236.042 998.647 239.236 1001.33 Q242.431 1004.02 242.431 1008.51 Q242.431 1010.64 241.621 1012.56 Q240.834 1014.46 238.727 1017.05 Q238.148 1017.72 235.047 1020.94 Q231.945 1024.13 226.297 1029.9 Z\" fill=\"#000000\" fill-rule=\"evenodd\" fill-opacity=\"1\" /><path clip-path=\"url(#clip740)\" d=\"M252.477 999.272 L270.833 999.272 L270.833 1003.21 L256.759 1003.21 L256.759 1011.68 Q257.778 1011.33 258.796 1011.17 Q259.815 1010.98 260.833 1010.98 Q266.62 1010.98 270 1014.16 Q273.38 1017.33 273.38 1022.74 Q273.38 1028.32 269.907 1031.42 Q266.435 1034.5 260.116 1034.5 Q257.94 1034.5 255.671 1034.13 Q253.426 1033.76 251.019 1033.02 L251.019 1028.32 Q253.102 1029.46 255.324 1030.01 Q257.546 1030.57 260.023 1030.57 Q264.028 1030.57 266.366 1028.46 Q268.704 1026.35 268.704 1022.74 Q268.704 1019.13 266.366 1017.03 Q264.028 1014.92 260.023 1014.92 Q258.148 1014.92 256.273 1015.34 Q254.421 1015.75 252.477 1016.63 L252.477 999.272 Z\" fill=\"#000000\" fill-rule=\"evenodd\" fill-opacity=\"1\" /><path clip-path=\"url(#clip740)\" d=\"M129.885 709.596 Q133.242 710.314 135.117 712.582 Q137.015 714.851 137.015 718.184 Q137.015 723.3 133.496 726.101 Q129.978 728.902 123.496 728.902 Q121.32 728.902 119.006 728.462 Q116.714 728.045 114.26 727.189 L114.26 722.675 Q116.205 723.809 118.519 724.388 Q120.834 724.966 123.357 724.966 Q127.755 724.966 130.047 723.23 Q132.362 721.494 132.362 718.184 Q132.362 715.129 130.209 713.416 Q128.08 711.679 124.26 711.679 L120.232 711.679 L120.232 707.837 L124.445 707.837 Q127.894 707.837 129.723 706.471 Q131.552 705.082 131.552 702.49 Q131.552 699.828 129.654 698.416 Q127.779 696.98 124.26 696.98 Q122.339 696.98 120.14 697.397 Q117.941 697.814 115.302 698.693 L115.302 694.527 Q117.964 693.786 120.279 693.416 Q122.617 693.045 124.677 693.045 Q130.001 693.045 133.103 695.476 Q136.204 697.883 136.204 702.004 Q136.204 704.874 134.561 706.865 Q132.917 708.832 129.885 709.596 Z\" fill=\"#000000\" fill-rule=\"evenodd\" fill-opacity=\"1\" /><path clip-path=\"url(#clip740)\" d=\"M144.7 693.67 L166.922 693.67 L166.922 695.661 L154.376 728.23 L149.491 728.23 L161.297 697.605 L144.7 697.605 L144.7 693.67 Z\" fill=\"#000000\" fill-rule=\"evenodd\" fill-opacity=\"1\" /><path clip-path=\"url(#clip740)\" d=\"M176.042 722.351 L180.926 722.351 L180.926 728.23 L176.042 728.23 L176.042 722.351 Z\" fill=\"#000000\" fill-rule=\"evenodd\" fill-opacity=\"1\" /><path clip-path=\"url(#clip740)\" d=\"M191.158 693.67 L209.514 693.67 L209.514 697.605 L195.44 697.605 L195.44 706.078 Q196.459 705.73 197.477 705.568 Q198.496 705.383 199.514 705.383 Q205.301 705.383 208.681 708.554 Q212.061 711.726 212.061 717.142 Q212.061 722.721 208.588 725.823 Q205.116 728.902 198.797 728.902 Q196.621 728.902 194.352 728.531 Q192.107 728.161 189.7 727.42 L189.7 722.721 Q191.783 723.855 194.005 724.411 Q196.227 724.966 198.704 724.966 Q202.709 724.966 205.047 722.86 Q207.385 720.753 207.385 717.142 Q207.385 713.531 205.047 711.425 Q202.709 709.318 198.704 709.318 Q196.829 709.318 194.954 709.735 Q193.102 710.152 191.158 711.031 L191.158 693.67 Z\" fill=\"#000000\" fill-rule=\"evenodd\" fill-opacity=\"1\" /><path clip-path=\"url(#clip740)\" d=\"M221.32 693.67 L239.676 693.67 L239.676 697.605 L225.602 697.605 L225.602 706.078 Q226.621 705.73 227.639 705.568 Q228.658 705.383 229.676 705.383 Q235.463 705.383 238.843 708.554 Q242.222 711.726 242.222 717.142 Q242.222 722.721 238.75 725.823 Q235.278 728.902 228.959 728.902 Q226.783 728.902 224.514 728.531 Q222.269 728.161 219.861 727.42 L219.861 722.721 Q221.945 723.855 224.167 724.411 Q226.389 724.966 228.866 724.966 Q232.871 724.966 235.209 722.86 Q237.547 720.753 237.547 717.142 Q237.547 713.531 235.209 711.425 Q232.871 709.318 228.866 709.318 Q226.991 709.318 225.116 709.735 Q223.264 710.152 221.32 711.031 L221.32 693.67 Z\" fill=\"#000000\" fill-rule=\"evenodd\" fill-opacity=\"1\" /><path clip-path=\"url(#clip740)\" d=\"M261.435 696.749 Q257.824 696.749 255.996 700.314 Q254.19 703.855 254.19 710.985 Q254.19 718.091 255.996 721.656 Q257.824 725.198 261.435 725.198 Q265.07 725.198 266.875 721.656 Q268.704 718.091 268.704 710.985 Q268.704 703.855 266.875 700.314 Q265.07 696.749 261.435 696.749 M261.435 693.045 Q267.245 693.045 270.301 697.652 Q273.38 702.235 273.38 710.985 Q273.38 719.712 270.301 724.318 Q267.245 728.902 261.435 728.902 Q255.625 728.902 252.546 724.318 Q249.491 719.712 249.491 710.985 Q249.491 702.235 252.546 697.652 Q255.625 693.045 261.435 693.045 Z\" fill=\"#000000\" fill-rule=\"evenodd\" fill-opacity=\"1\" /><path clip-path=\"url(#clip740)\" d=\"M130.88 403.995 Q134.237 404.713 136.112 406.981 Q138.01 409.25 138.01 412.583 Q138.01 417.699 134.492 420.499 Q130.973 423.3 124.492 423.3 Q122.316 423.3 120.001 422.861 Q117.709 422.444 115.256 421.587 L115.256 417.074 Q117.2 418.208 119.515 418.787 Q121.83 419.365 124.353 419.365 Q128.751 419.365 131.042 417.629 Q133.357 415.893 133.357 412.583 Q133.357 409.527 131.205 407.814 Q129.075 406.078 125.255 406.078 L121.228 406.078 L121.228 402.236 L125.441 402.236 Q128.89 402.236 130.718 400.87 Q132.547 399.481 132.547 396.888 Q132.547 394.226 130.649 392.814 Q128.774 391.379 125.255 391.379 Q123.334 391.379 121.135 391.796 Q118.936 392.213 116.297 393.092 L116.297 388.926 Q118.959 388.185 121.274 387.814 Q123.612 387.444 125.672 387.444 Q130.996 387.444 134.098 389.875 Q137.2 392.282 137.2 396.402 Q137.2 399.273 135.556 401.263 Q133.913 403.231 130.88 403.995 Z\" fill=\"#000000\" fill-rule=\"evenodd\" fill-opacity=\"1\" /><path clip-path=\"url(#clip740)\" d=\"M145.695 388.069 L167.917 388.069 L167.917 390.06 L155.371 422.629 L150.487 422.629 L162.292 392.004 L145.695 392.004 L145.695 388.069 Z\" fill=\"#000000\" fill-rule=\"evenodd\" fill-opacity=\"1\" /><path clip-path=\"url(#clip740)\" d=\"M177.038 416.749 L181.922 416.749 L181.922 422.629 L177.038 422.629 L177.038 416.749 Z\" fill=\"#000000\" fill-rule=\"evenodd\" fill-opacity=\"1\" /><path clip-path=\"url(#clip740)\" d=\"M192.153 388.069 L210.51 388.069 L210.51 392.004 L196.436 392.004 L196.436 400.476 Q197.454 400.129 198.473 399.967 Q199.491 399.782 200.51 399.782 Q206.297 399.782 209.676 402.953 Q213.056 406.125 213.056 411.541 Q213.056 417.12 209.584 420.222 Q206.112 423.3 199.792 423.3 Q197.616 423.3 195.348 422.93 Q193.102 422.56 190.695 421.819 L190.695 417.12 Q192.778 418.254 195 418.81 Q197.223 419.365 199.7 419.365 Q203.704 419.365 206.042 417.259 Q208.38 415.152 208.38 411.541 Q208.38 407.93 206.042 405.824 Q203.704 403.717 199.7 403.717 Q197.825 403.717 195.95 404.134 Q194.098 404.55 192.153 405.43 L192.153 388.069 Z\" fill=\"#000000\" fill-rule=\"evenodd\" fill-opacity=\"1\" /><path clip-path=\"url(#clip740)\" d=\"M221.088 388.069 L243.31 388.069 L243.31 390.06 L230.764 422.629 L225.88 422.629 L237.685 392.004 L221.088 392.004 L221.088 388.069 Z\" fill=\"#000000\" fill-rule=\"evenodd\" fill-opacity=\"1\" /><path clip-path=\"url(#clip740)\" d=\"M252.477 388.069 L270.833 388.069 L270.833 392.004 L256.759 392.004 L256.759 400.476 Q257.778 400.129 258.796 399.967 Q259.815 399.782 260.833 399.782 Q266.62 399.782 270 402.953 Q273.38 406.125 273.38 411.541 Q273.38 417.12 269.907 420.222 Q266.435 423.3 260.116 423.3 Q257.94 423.3 255.671 422.93 Q253.426 422.56 251.019 421.819 L251.019 417.12 Q253.102 418.254 255.324 418.81 Q257.546 419.365 260.023 419.365 Q264.028 419.365 266.366 417.259 Q268.704 415.152 268.704 411.541 Q268.704 407.93 266.366 405.824 Q264.028 403.717 260.023 403.717 Q258.148 403.717 256.273 404.134 Q254.421 404.55 252.477 405.43 L252.477 388.069 Z\" fill=\"#000000\" fill-rule=\"evenodd\" fill-opacity=\"1\" /><path clip-path=\"url(#clip740)\" d=\"M129.885 98.3937 Q133.242 99.1113 135.117 101.38 Q137.015 103.648 137.015 106.982 Q137.015 112.097 133.496 114.898 Q129.978 117.699 123.496 117.699 Q121.32 117.699 119.006 117.259 Q116.714 116.843 114.26 115.986 L114.26 111.472 Q116.205 112.607 118.519 113.185 Q120.834 113.764 123.357 113.764 Q127.755 113.764 130.047 112.028 Q132.362 110.292 132.362 106.982 Q132.362 103.926 130.209 102.213 Q128.08 100.477 124.26 100.477 L120.232 100.477 L120.232 96.6345 L124.445 96.6345 Q127.894 96.6345 129.723 95.2687 Q131.552 93.8798 131.552 91.2873 Q131.552 88.6252 129.654 87.2132 Q127.779 85.778 124.26 85.778 Q122.339 85.778 120.14 86.1947 Q117.941 86.6114 115.302 87.491 L115.302 83.3243 Q117.964 82.5836 120.279 82.2132 Q122.617 81.8429 124.677 81.8429 Q130.001 81.8429 133.103 84.2734 Q136.204 86.6808 136.204 90.8012 Q136.204 93.6715 134.561 95.6622 Q132.917 97.6298 129.885 98.3937 Z\" fill=\"#000000\" fill-rule=\"evenodd\" fill-opacity=\"1\" /><path clip-path=\"url(#clip740)\" d=\"M144.7 82.4679 L166.922 82.4679 L166.922 84.4586 L154.376 117.028 L149.491 117.028 L161.297 86.403 L144.7 86.403 L144.7 82.4679 Z\" fill=\"#000000\" fill-rule=\"evenodd\" fill-opacity=\"1\" /><path clip-path=\"url(#clip740)\" d=\"M176.042 111.148 L180.926 111.148 L180.926 117.028 L176.042 117.028 L176.042 111.148 Z\" fill=\"#000000\" fill-rule=\"evenodd\" fill-opacity=\"1\" /><path clip-path=\"url(#clip740)\" d=\"M201.69 97.8844 Q198.542 97.8844 196.69 100.037 Q194.862 102.19 194.862 105.94 Q194.862 109.667 196.69 111.843 Q198.542 113.995 201.69 113.995 Q204.838 113.995 206.667 111.843 Q208.519 109.667 208.519 105.94 Q208.519 102.19 206.667 100.037 Q204.838 97.8844 201.69 97.8844 M210.973 83.2317 L210.973 87.491 Q209.213 86.6577 207.408 86.2178 Q205.625 85.778 203.866 85.778 Q199.237 85.778 196.783 88.903 Q194.352 92.028 194.005 98.3474 Q195.371 96.3335 197.431 95.2687 Q199.491 94.1808 201.968 94.1808 Q207.176 94.1808 210.186 97.352 Q213.218 100.5 213.218 105.94 Q213.218 111.264 210.07 114.482 Q206.922 117.699 201.69 117.699 Q195.695 117.699 192.524 113.116 Q189.352 108.509 189.352 99.7826 Q189.352 91.5882 193.241 86.7271 Q197.13 81.8429 203.681 81.8429 Q205.44 81.8429 207.223 82.1901 Q209.028 82.5373 210.973 83.2317 Z\" fill=\"#000000\" fill-rule=\"evenodd\" fill-opacity=\"1\" /><path clip-path=\"url(#clip740)\" d=\"M231.273 85.5465 Q227.662 85.5465 225.834 89.1113 Q224.028 92.653 224.028 99.7826 Q224.028 106.889 225.834 110.454 Q227.662 113.995 231.273 113.995 Q234.908 113.995 236.713 110.454 Q238.542 106.889 238.542 99.7826 Q238.542 92.653 236.713 89.1113 Q234.908 85.5465 231.273 85.5465 M231.273 81.8429 Q237.084 81.8429 240.139 86.4493 Q243.218 91.0326 243.218 99.7826 Q243.218 108.509 240.139 113.116 Q237.084 117.699 231.273 117.699 Q225.463 117.699 222.385 113.116 Q219.329 108.509 219.329 99.7826 Q219.329 91.0326 222.385 86.4493 Q225.463 81.8429 231.273 81.8429 Z\" fill=\"#000000\" fill-rule=\"evenodd\" fill-opacity=\"1\" /><path clip-path=\"url(#clip740)\" d=\"M261.435 85.5465 Q257.824 85.5465 255.996 89.1113 Q254.19 92.653 254.19 99.7826 Q254.19 106.889 255.996 110.454 Q257.824 113.995 261.435 113.995 Q265.07 113.995 266.875 110.454 Q268.704 106.889 268.704 99.7826 Q268.704 92.653 266.875 89.1113 Q265.07 85.5465 261.435 85.5465 M261.435 81.8429 Q267.245 81.8429 270.301 86.4493 Q273.38 91.0326 273.38 99.7826 Q273.38 108.509 270.301 113.116 Q267.245 117.699 261.435 117.699 Q255.625 117.699 252.546 113.116 Q249.491 108.509 249.491 99.7826 Q249.491 91.0326 252.546 86.4493 Q255.625 81.8429 261.435 81.8429 Z\" fill=\"#000000\" fill-rule=\"evenodd\" fill-opacity=\"1\" /><path clip-path=\"url(#clip740)\" d=\"M20.1444 1233.36 L26.9239 1233.36 Q23.9002 1236.61 22.4043 1240.3 Q20.9083 1243.96 20.9083 1248.1 Q20.9083 1256.25 25.9054 1260.57 Q30.8707 1264.9 40.2919 1264.9 Q49.6813 1264.9 54.6784 1260.57 Q59.6436 1256.25 59.6436 1248.1 Q59.6436 1243.96 58.1477 1240.3 Q56.6518 1236.61 53.6281 1233.36 L60.3439 1233.36 Q62.6355 1236.73 63.7814 1240.52 Q64.9272 1244.28 64.9272 1248.48 Q64.9272 1259.27 58.3387 1265.48 Q51.7183 1271.68 40.2919 1271.68 Q28.8336 1271.68 22.2451 1265.48 Q15.6248 1259.27 15.6248 1248.48 Q15.6248 1244.21 16.7706 1240.46 Q17.8846 1236.67 20.1444 1233.36 Z\" fill=\"#000000\" fill-rule=\"evenodd\" fill-opacity=\"1\" /><path clip-path=\"url(#clip740)\" d=\"M32.4621 1209.87 Q32.4621 1214.58 36.1542 1217.32 Q39.8145 1220.06 46.212 1220.06 Q52.6095 1220.06 56.3017 1217.35 Q59.9619 1214.61 59.9619 1209.87 Q59.9619 1205.19 56.2698 1202.45 Q52.5777 1199.72 46.212 1199.72 Q39.8781 1199.72 36.186 1202.45 Q32.4621 1205.19 32.4621 1209.87 M27.4968 1209.87 Q27.4968 1202.23 32.4621 1197.87 Q37.4273 1193.51 46.212 1193.51 Q54.9649 1193.51 59.9619 1197.87 Q64.9272 1202.23 64.9272 1209.87 Q64.9272 1217.54 59.9619 1221.9 Q54.9649 1226.23 46.212 1226.23 Q37.4273 1226.23 32.4621 1221.9 Q27.4968 1217.54 27.4968 1209.87 Z\" fill=\"#000000\" fill-rule=\"evenodd\" fill-opacity=\"1\" /><path clip-path=\"url(#clip740)\" d=\"M29.4065 1161.08 L34.9447 1161.08 Q33.6716 1163.56 33.035 1166.23 Q32.3984 1168.91 32.3984 1171.77 Q32.3984 1176.13 33.7352 1178.33 Q35.072 1180.49 37.7456 1180.49 Q39.7826 1180.49 40.9603 1178.93 Q42.1061 1177.37 43.1565 1172.66 L43.6021 1170.66 Q44.9389 1164.42 47.3897 1161.81 Q49.8086 1159.17 54.1691 1159.17 Q59.1344 1159.17 62.0308 1163.11 Q64.9272 1167.03 64.9272 1173.9 Q64.9272 1176.77 64.3543 1179.89 Q63.8132 1182.98 62.6992 1186.41 L56.6518 1186.41 Q58.3387 1183.17 59.198 1180.02 Q60.0256 1176.86 60.0256 1173.78 Q60.0256 1169.64 58.6251 1167.41 Q57.1929 1165.18 54.6147 1165.18 Q52.2276 1165.18 50.9545 1166.81 Q49.6813 1168.4 48.5037 1173.84 L48.0262 1175.88 Q46.8804 1181.32 44.5251 1183.74 Q42.138 1186.16 38.0002 1186.16 Q32.9713 1186.16 30.2341 1182.59 Q27.4968 1179.03 27.4968 1172.47 Q27.4968 1169.23 27.9743 1166.36 Q28.4517 1163.5 29.4065 1161.08 Z\" fill=\"#000000\" fill-rule=\"evenodd\" fill-opacity=\"1\" /><path clip-path=\"url(#clip740)\" d=\"M18.2347 1144.05 L28.3562 1144.05 L28.3562 1131.99 L32.9077 1131.99 L32.9077 1144.05 L52.2594 1144.05 Q56.6199 1144.05 57.8613 1142.87 Q59.1026 1141.66 59.1026 1138 L59.1026 1131.99 L64.0042 1131.99 L64.0042 1138 Q64.0042 1144.78 61.4897 1147.36 Q58.9434 1149.94 52.2594 1149.94 L32.9077 1149.94 L32.9077 1154.23 L28.3562 1154.23 L28.3562 1149.94 L18.2347 1149.94 L18.2347 1144.05 Z\" fill=\"#000000\" fill-rule=\"evenodd\" fill-opacity=\"1\" /><path clip-path=\"url(#clip740)\" d=\"M18.2347 1097.77 L28.3562 1097.77 L28.3562 1085.71 L32.9077 1085.71 L32.9077 1097.77 L52.2594 1097.77 Q56.6199 1097.77 57.8613 1096.59 Q59.1026 1095.38 59.1026 1091.72 L59.1026 1085.71 L64.0042 1085.71 L64.0042 1091.72 Q64.0042 1098.5 61.4897 1101.08 Q58.9434 1103.66 52.2594 1103.66 L32.9077 1103.66 L32.9077 1107.96 L28.3562 1107.96 L28.3562 1103.66 L18.2347 1103.66 L18.2347 1097.77 Z\" fill=\"#000000\" fill-rule=\"evenodd\" fill-opacity=\"1\" /><path clip-path=\"url(#clip740)\" d=\"M32.4621 1064.19 Q32.4621 1068.9 36.1542 1071.64 Q39.8145 1074.38 46.212 1074.38 Q52.6095 1074.38 56.3017 1071.67 Q59.9619 1068.93 59.9619 1064.19 Q59.9619 1059.51 56.2698 1056.78 Q52.5777 1054.04 46.212 1054.04 Q39.8781 1054.04 36.186 1056.78 Q32.4621 1059.51 32.4621 1064.19 M27.4968 1064.19 Q27.4968 1056.55 32.4621 1052.19 Q37.4273 1047.83 46.212 1047.83 Q54.9649 1047.83 59.9619 1052.19 Q64.9272 1056.55 64.9272 1064.19 Q64.9272 1071.86 59.9619 1076.22 Q54.9649 1080.55 46.212 1080.55 Q37.4273 1080.55 32.4621 1076.22 Q27.4968 1071.86 27.4968 1064.19 Z\" fill=\"#000000\" fill-rule=\"evenodd\" fill-opacity=\"1\" /><path clip-path=\"url(#clip740)\" d=\"M29.7248 991.75 L35.1993 991.75 Q33.8307 994.233 33.1623 996.747 Q32.4621 999.23 32.4621 1001.78 Q32.4621 1007.47 36.0905 1010.62 Q39.6872 1013.78 46.212 1013.78 Q52.7369 1013.78 56.3653 1010.62 Q59.9619 1007.47 59.9619 1001.78 Q59.9619 999.23 59.2935 996.747 Q58.5933 994.233 57.2247 991.75 L62.6355 991.75 Q63.7814 994.201 64.3543 996.843 Q64.9272 999.452 64.9272 1002.41 Q64.9272 1010.47 59.8664 1015.21 Q54.8057 1019.95 46.212 1019.95 Q37.491 1019.95 32.4939 1015.18 Q27.4968 1010.37 27.4968 1002.03 Q27.4968 999.325 28.0697 996.747 Q28.6108 994.169 29.7248 991.75 Z\" fill=\"#000000\" fill-rule=\"evenodd\" fill-opacity=\"1\" /><path clip-path=\"url(#clip740)\" d=\"M32.4621 967.751 Q32.4621 972.462 36.1542 975.199 Q39.8145 977.936 46.212 977.936 Q52.6095 977.936 56.3017 975.231 Q59.9619 972.494 59.9619 967.751 Q59.9619 963.072 56.2698 960.335 Q52.5777 957.598 46.212 957.598 Q39.8781 957.598 36.186 960.335 Q32.4621 963.072 32.4621 967.751 M27.4968 967.751 Q27.4968 960.112 32.4621 955.752 Q37.4273 951.391 46.212 951.391 Q54.9649 951.391 59.9619 955.752 Q64.9272 960.112 64.9272 967.751 Q64.9272 975.422 59.9619 979.782 Q54.9649 984.111 46.212 984.111 Q37.4273 984.111 32.4621 979.782 Q27.4968 975.422 27.4968 967.751 Z\" fill=\"#000000\" fill-rule=\"evenodd\" fill-opacity=\"1\" /><path clip-path=\"url(#clip740)\" d=\"M42.4881 912.051 L64.0042 912.051 L64.0042 917.908 L42.679 917.908 Q37.6183 917.908 35.1038 919.881 Q32.5894 921.854 32.5894 925.801 Q32.5894 930.544 35.6131 933.281 Q38.6368 936.018 43.8567 936.018 L64.0042 936.018 L64.0042 941.906 L28.3562 941.906 L28.3562 936.018 L33.8944 936.018 Q30.6797 933.918 29.0883 931.085 Q27.4968 928.22 27.4968 924.496 Q27.4968 918.353 31.3163 915.202 Q35.1038 912.051 42.4881 912.051 Z\" fill=\"#000000\" fill-rule=\"evenodd\" fill-opacity=\"1\" /><path clip-path=\"url(#clip740)\" d=\"M29.4065 877.645 L34.9447 877.645 Q33.6716 880.127 33.035 882.801 Q32.3984 885.474 32.3984 888.339 Q32.3984 892.7 33.7352 894.896 Q35.072 897.06 37.7456 897.06 Q39.7826 897.06 40.9603 895.5 Q42.1061 893.941 43.1565 889.23 L43.6021 887.225 Q44.9389 880.987 47.3897 878.377 Q49.8086 875.735 54.1691 875.735 Q59.1344 875.735 62.0308 879.682 Q64.9272 883.597 64.9272 890.472 Q64.9272 893.336 64.3543 896.455 Q63.8132 899.543 62.6992 902.98 L56.6518 902.98 Q58.3387 899.734 59.198 896.583 Q60.0256 893.432 60.0256 890.344 Q60.0256 886.207 58.6251 883.979 Q57.1929 881.751 54.6147 881.751 Q52.2276 881.751 50.9545 883.374 Q49.6813 884.965 48.5037 890.408 L48.0262 892.445 Q46.8804 897.888 44.5251 900.307 Q42.138 902.726 38.0002 902.726 Q32.9713 902.726 30.2341 899.161 Q27.4968 895.596 27.4968 889.039 Q27.4968 885.793 27.9743 882.928 Q28.4517 880.064 29.4065 877.645 Z\" fill=\"#000000\" fill-rule=\"evenodd\" fill-opacity=\"1\" /><path clip-path=\"url(#clip740)\" d=\"M49.9359 867.014 L28.3562 867.014 L28.3562 861.157 L49.7131 861.157 Q54.7739 861.157 57.3202 859.184 Q59.8346 857.211 59.8346 853.264 Q59.8346 848.522 56.8109 845.784 Q53.7872 843.015 48.5673 843.015 L28.3562 843.015 L28.3562 837.159 L64.0042 837.159 L64.0042 843.015 L58.5296 843.015 Q61.7762 845.148 63.3676 847.98 Q64.9272 850.781 64.9272 854.505 Q64.9272 860.648 61.1078 863.831 Q57.2883 867.014 49.9359 867.014 M27.4968 852.277 L27.4968 852.277 Z\" fill=\"#000000\" fill-rule=\"evenodd\" fill-opacity=\"1\" /><path clip-path=\"url(#clip740)\" d=\"M35.1993 797.341 Q31.2526 795.145 29.3747 792.09 Q27.4968 789.034 27.4968 784.896 Q27.4968 779.326 31.4117 776.303 Q35.2948 773.279 42.4881 773.279 L64.0042 773.279 L64.0042 779.167 L42.679 779.167 Q37.5546 779.167 35.072 780.981 Q32.5894 782.796 32.5894 786.52 Q32.5894 791.071 35.6131 793.713 Q38.6368 796.355 43.8567 796.355 L64.0042 796.355 L64.0042 802.243 L42.679 802.243 Q37.5228 802.243 35.072 804.057 Q32.5894 805.871 32.5894 809.659 Q32.5894 814.147 35.6449 816.788 Q38.6686 819.43 43.8567 819.43 L64.0042 819.43 L64.0042 825.319 L28.3562 825.319 L28.3562 819.43 L33.8944 819.43 Q30.616 817.425 29.0564 814.624 Q27.4968 811.823 27.4968 807.972 Q27.4968 804.089 29.4702 801.383 Q31.4436 798.646 35.1993 797.341 Z\" fill=\"#000000\" fill-rule=\"evenodd\" fill-opacity=\"1\" /><path clip-path=\"url(#clip740)\" d=\"M44.7161 731.106 L47.5806 731.106 L47.5806 758.033 Q53.6281 757.651 56.8109 754.405 Q59.9619 751.126 59.9619 745.302 Q59.9619 741.928 59.1344 738.777 Q58.3069 735.594 56.6518 732.475 L62.1899 732.475 Q63.5267 735.626 64.227 738.936 Q64.9272 742.246 64.9272 745.652 Q64.9272 754.182 59.9619 759.179 Q54.9967 764.144 46.5303 764.144 Q37.7774 764.144 32.6531 759.433 Q27.4968 754.691 27.4968 746.67 Q27.4968 739.477 32.1438 735.307 Q36.7589 731.106 44.7161 731.106 M42.9973 736.963 Q38.1912 737.026 35.3266 739.668 Q32.4621 742.278 32.4621 746.607 Q32.4621 751.508 35.2312 754.468 Q38.0002 757.396 43.0292 757.842 L42.9973 736.963 Z\" fill=\"#000000\" fill-rule=\"evenodd\" fill-opacity=\"1\" /><path clip-path=\"url(#clip740)\" d=\"M33.8307 700.837 Q33.2578 701.824 33.0032 703.001 Q32.7167 704.147 32.7167 705.548 Q32.7167 710.513 35.9632 713.187 Q39.1779 715.828 45.2253 715.828 L64.0042 715.828 L64.0042 721.717 L28.3562 721.717 L28.3562 715.828 L33.8944 715.828 Q30.6479 713.982 29.0883 711.022 Q27.4968 708.062 27.4968 703.829 Q27.4968 703.224 27.5923 702.492 Q27.656 701.76 27.8151 700.869 L33.8307 700.837 Z\" fill=\"#000000\" fill-rule=\"evenodd\" fill-opacity=\"1\" /><path clip-path=\"url(#clip740)\" d=\"M29.4065 671.969 L34.9447 671.969 Q33.6716 674.451 33.035 677.125 Q32.3984 679.798 32.3984 682.663 Q32.3984 687.024 33.7352 689.22 Q35.072 691.384 37.7456 691.384 Q39.7826 691.384 40.9603 689.824 Q42.1061 688.265 43.1565 683.554 L43.6021 681.549 Q44.9389 675.311 47.3897 672.701 Q49.8086 670.059 54.1691 670.059 Q59.1344 670.059 62.0308 674.006 Q64.9272 677.921 64.9272 684.796 Q64.9272 687.66 64.3543 690.779 Q63.8132 693.867 62.6992 697.304 L56.6518 697.304 Q58.3387 694.058 59.198 690.907 Q60.0256 687.756 60.0256 684.668 Q60.0256 680.531 58.6251 678.303 Q57.1929 676.075 54.6147 676.075 Q52.2276 676.075 50.9545 677.698 Q49.6813 679.289 48.5037 684.732 L48.0262 686.769 Q46.8804 692.212 44.5251 694.631 Q42.138 697.05 38.0002 697.05 Q32.9713 697.05 30.2341 693.485 Q27.4968 689.92 27.4968 683.363 Q27.4968 680.117 27.9743 677.252 Q28.4517 674.388 29.4065 671.969 Z\" fill=\"#000000\" fill-rule=\"evenodd\" fill-opacity=\"1\" /><path clip-path=\"url(#clip740)\" d=\"M14.5426 625.945 Q21.8632 630.21 29.0246 632.278 Q36.186 634.347 43.5384 634.347 Q50.8908 634.347 58.1159 632.278 Q65.3091 630.178 72.5979 625.945 L72.5979 631.037 Q65.1182 635.811 57.8931 638.199 Q50.668 640.554 43.5384 640.554 Q36.4406 640.554 29.2474 638.199 Q22.0542 635.843 14.5426 631.037 L14.5426 625.945 Z\" fill=\"#000000\" fill-rule=\"evenodd\" fill-opacity=\"1\" /><path clip-path=\"url(#clip740)\" d=\"M33.7671 591.124 L14.479 591.124 L14.479 585.268 L64.0042 585.268 L64.0042 591.124 L58.657 591.124 Q61.8398 592.97 63.3994 595.803 Q64.9272 598.604 64.9272 602.551 Q64.9272 609.012 59.771 613.086 Q54.6147 617.128 46.212 617.128 Q37.8093 617.128 32.6531 613.086 Q27.4968 609.012 27.4968 602.551 Q27.4968 598.604 29.0564 595.803 Q30.5842 592.97 33.7671 591.124 M46.212 611.081 Q52.6732 611.081 56.3653 608.439 Q60.0256 605.765 60.0256 601.118 Q60.0256 596.471 56.3653 593.798 Q52.6732 591.124 46.212 591.124 Q39.7508 591.124 36.0905 593.798 Q32.3984 596.471 32.3984 601.118 Q32.3984 605.765 36.0905 608.439 Q39.7508 611.081 46.212 611.081 Z\" fill=\"#000000\" fill-rule=\"evenodd\" fill-opacity=\"1\" /><path clip-path=\"url(#clip740)\" d=\"M32.4621 559.391 Q32.4621 564.102 36.1542 566.839 Q39.8145 569.576 46.212 569.576 Q52.6095 569.576 56.3017 566.871 Q59.9619 564.134 59.9619 559.391 Q59.9619 554.712 56.2698 551.975 Q52.5777 549.238 46.212 549.238 Q39.8781 549.238 36.186 551.975 Q32.4621 554.712 32.4621 559.391 M27.4968 559.391 Q27.4968 551.752 32.4621 547.392 Q37.4273 543.031 46.212 543.031 Q54.9649 543.031 59.9619 547.392 Q64.9272 551.752 64.9272 559.391 Q64.9272 567.062 59.9619 571.422 Q54.9649 575.751 46.212 575.751 Q37.4273 575.751 32.4621 571.422 Q27.4968 567.062 27.4968 559.391 Z\" fill=\"#000000\" fill-rule=\"evenodd\" fill-opacity=\"1\" /><path clip-path=\"url(#clip740)\" d=\"M14.479 533.324 L14.479 527.467 L64.0042 527.467 L64.0042 533.324 L14.479 533.324 Z\" fill=\"#000000\" fill-rule=\"evenodd\" fill-opacity=\"1\" /><path clip-path=\"url(#clip740)\" d=\"M14.479 515.213 L14.479 509.357 L64.0042 509.357 L64.0042 515.213 L14.479 515.213 Z\" fill=\"#000000\" fill-rule=\"evenodd\" fill-opacity=\"1\" /><path clip-path=\"url(#clip740)\" d=\"M46.0847 480.902 Q46.0847 488 47.7079 490.737 Q49.3312 493.474 53.2461 493.474 Q56.3653 493.474 58.2114 491.437 Q60.0256 489.368 60.0256 485.835 Q60.0256 480.966 56.5881 478.037 Q53.1188 475.077 47.3897 475.077 L46.0847 475.077 L46.0847 480.902 M43.6657 469.221 L64.0042 469.221 L64.0042 475.077 L58.5933 475.077 Q61.8398 477.083 63.3994 480.074 Q64.9272 483.066 64.9272 487.395 Q64.9272 492.87 61.8716 496.116 Q58.7843 499.331 53.6281 499.331 Q47.6125 499.331 44.5569 495.32 Q41.5014 491.278 41.5014 483.289 L41.5014 475.077 L40.9285 475.077 Q36.8862 475.077 34.6901 477.751 Q32.4621 480.393 32.4621 485.199 Q32.4621 488.254 33.1941 491.151 Q33.9262 494.047 35.3903 496.721 L29.9795 496.721 Q28.7381 493.506 28.1334 490.482 Q27.4968 487.459 27.4968 484.594 Q27.4968 476.86 31.5072 473.04 Q35.5176 469.221 43.6657 469.221 Z\" fill=\"#000000\" fill-rule=\"evenodd\" fill-opacity=\"1\" /><path clip-path=\"url(#clip740)\" d=\"M33.8307 436.501 Q33.2578 437.488 33.0032 438.666 Q32.7167 439.811 32.7167 441.212 Q32.7167 446.177 35.9632 448.851 Q39.1779 451.492 45.2253 451.492 L64.0042 451.492 L64.0042 457.381 L28.3562 457.381 L28.3562 451.492 L33.8944 451.492 Q30.6479 449.646 29.0883 446.686 Q27.4968 443.726 27.4968 439.493 Q27.4968 438.888 27.5923 438.156 Q27.656 437.424 27.8151 436.533 L33.8307 436.501 Z\" fill=\"#000000\" fill-rule=\"evenodd\" fill-opacity=\"1\" /><path clip-path=\"url(#clip740)\" d=\"M29.4065 407.633 L34.9447 407.633 Q33.6716 410.115 33.035 412.789 Q32.3984 415.463 32.3984 418.327 Q32.3984 422.688 33.7352 424.884 Q35.072 427.048 37.7456 427.048 Q39.7826 427.048 40.9603 425.489 Q42.1061 423.929 43.1565 419.218 L43.6021 417.213 Q44.9389 410.975 47.3897 408.365 Q49.8086 405.723 54.1691 405.723 Q59.1344 405.723 62.0308 409.67 Q64.9272 413.585 64.9272 420.46 Q64.9272 423.324 64.3543 426.443 Q63.8132 429.531 62.6992 432.968 L56.6518 432.968 Q58.3387 429.722 59.198 426.571 Q60.0256 423.42 60.0256 420.332 Q60.0256 416.195 58.6251 413.967 Q57.1929 411.739 54.6147 411.739 Q52.2276 411.739 50.9545 413.362 Q49.6813 414.953 48.5037 420.396 L48.0262 422.433 Q46.8804 427.876 44.5251 430.295 Q42.138 432.714 38.0002 432.714 Q32.9713 432.714 30.2341 429.149 Q27.4968 425.584 27.4968 419.027 Q27.4968 415.781 27.9743 412.916 Q28.4517 410.052 29.4065 407.633 Z\" fill=\"#000000\" fill-rule=\"evenodd\" fill-opacity=\"1\" /><path clip-path=\"url(#clip740)\" d=\"M16.4842 385.989 L16.4842 380.578 L70.0516 397.129 L70.0516 402.54 L16.4842 385.989 Z\" fill=\"#000000\" fill-rule=\"evenodd\" fill-opacity=\"1\" /><path clip-path=\"url(#clip740)\" d=\"M16.4842 374.181 L16.4842 364.601 L48.8219 352.474 L16.4842 340.284 L16.4842 330.703 L64.0042 330.703 L64.0042 336.973 L22.277 336.973 L54.8694 349.227 L54.8694 355.689 L22.277 367.943 L64.0042 367.943 L64.0042 374.181 L16.4842 374.181 Z\" fill=\"#000000\" fill-rule=\"evenodd\" fill-opacity=\"1\" /><path clip-path=\"url(#clip740)\" d=\"M16.4842 322.173 L16.4842 315.68 L56.6518 305.686 L16.4842 295.724 L16.4842 288.499 L56.6518 278.504 L16.4842 268.542 L16.4842 262.017 L64.0042 273.953 L64.0042 282.037 L22.7544 292.063 L64.0042 302.185 L64.0042 310.269 L16.4842 322.173 Z\" fill=\"#000000\" fill-rule=\"evenodd\" fill-opacity=\"1\" /><path clip-path=\"url(#clip740)\" d=\"M42.4881 224.109 L64.0042 224.109 L64.0042 229.966 L42.679 229.966 Q37.6183 229.966 35.1038 231.939 Q32.5894 233.913 32.5894 237.859 Q32.5894 242.602 35.6131 245.339 Q38.6368 248.076 43.8567 248.076 L64.0042 248.076 L64.0042 253.965 L14.479 253.965 L14.479 248.076 L33.8944 248.076 Q30.6797 245.976 29.0883 243.143 Q27.4968 240.278 27.4968 236.554 Q27.4968 230.411 31.3163 227.26 Q35.1038 224.109 42.4881 224.109 Z\" fill=\"#000000\" fill-rule=\"evenodd\" fill-opacity=\"1\" /><path clip-path=\"url(#clip740)\" d=\"M14.5426 213.351 L14.5426 208.259 Q22.0542 203.484 29.2474 201.129 Q36.4406 198.742 43.5384 198.742 Q50.668 198.742 57.8931 201.129 Q65.1182 203.484 72.5979 208.259 L72.5979 213.351 Q65.3091 209.118 58.1159 207.049 Q50.8908 204.949 43.5384 204.949 Q36.186 204.949 29.0246 207.049 Q21.8632 209.118 14.5426 213.351 Z\" fill=\"#000000\" fill-rule=\"evenodd\" fill-opacity=\"1\" /><polyline clip-path=\"url(#clip742)\" style=\"stroke:#009af9; stroke-linecap:round; stroke-linejoin:round; stroke-width:4; stroke-opacity:1; fill:none\" points=\"\n",
       "  367.211,1384.24 752.754,1296.54 1138.3,1176.87 1523.84,971.056 1909.38,669.478 2294.92,86.1857 \n",
       "  \"/>\n",
       "</svg>\n"
      ]
     },
     "execution_count": 18,
     "metadata": {},
     "output_type": "execute_result"
    }
   ],
   "source": [
    "let\n",
    "    plot(dataPolicy.alpha, dataPolicy.tariff, legend = false)\n",
    "    plot!(xlab=\"Share insensitive consumers\",ylab=\"Cost to consumers (dollars/MWh)\")\n",
    "end"
   ]
  },
  {
   "cell_type": "markdown",
   "metadata": {},
   "source": [
    "## Follow-up exercises\n",
    "\n",
    "1. What take aways do you get from the above visualization?\n",
    "\n",
    "2. Consider an energy savings technology. How could it be added to the model? What would be the challenges in calibrating it?"
   ]
  }
 ],
 "metadata": {
  "kernelspec": {
   "display_name": "Julia 1.8.2",
   "language": "julia",
   "name": "julia-1.8"
  },
  "language_info": {
   "file_extension": ".jl",
   "mimetype": "application/julia",
   "name": "julia",
   "version": "1.8.2"
  }
 },
 "nbformat": 4,
 "nbformat_minor": 2
}
